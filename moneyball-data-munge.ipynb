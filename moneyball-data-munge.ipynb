{
 "metadata": {
  "language_info": {
   "codemirror_mode": {
    "name": "ipython",
    "version": 3
   },
   "file_extension": ".py",
   "mimetype": "text/x-python",
   "name": "python",
   "nbconvert_exporter": "python",
   "pygments_lexer": "ipython3",
   "version": 3
  },
  "orig_nbformat": 2,
  "kernelspec": {
   "name": "python_defaultSpec_1595882241147",
   "display_name": "Python 3.7.3 64-bit"
  }
 },
 "nbformat": 4,
 "nbformat_minor": 2,
 "cells": [
  {
   "cell_type": "code",
   "execution_count": 6,
   "metadata": {},
   "outputs": [],
   "source": [
    "\n",
    "import pandas as pd \n",
    "import geopandas as gpd\n",
    "import csv\n",
    "from pathlib import Path\n",
    "\n",
    "from collections import OrderedDict"
   ]
  },
  {
   "cell_type": "code",
   "execution_count": 8,
   "metadata": {},
   "outputs": [],
   "source": [
    "data_dir = Path.cwd() / \"data\"\n",
    "out_dir = Path.cwd() / \"out-files\""
   ]
  },
  {
   "cell_type": "code",
   "execution_count": 9,
   "metadata": {},
   "outputs": [],
   "source": [
    "# Util method to come between state formats \n",
    "def get_state_code(input, FIPS=True, TwoDigit=False, Full=False):\n",
    "    if (FIPS + TwoDigit + Full != 1):\n",
    "        raise ValueError(\"Exactly one format argument must be True. Default = FIPS\")\n",
    "\n",
    "    code_hash = {\n",
    "        'AL': {'full': 'Alabama', 'two_digit': 'AL', 'FIPS': 1},\n",
    "        'AK': {'full': 'Alaska', 'two_digit': 'AK', 'FIPS': 2},\n",
    "        'AZ': {'full': 'Arizona', 'two_digit': 'AZ', 'FIPS': 4},\n",
    "        'AR': {'full': 'Arkansas', 'two_digit': 'AR', 'FIPS': 5},\n",
    "        'CA': {'full': 'California', 'two_digit': 'CA', 'FIPS': 6},\n",
    "        'CO': {'full': 'Colorado', 'two_digit': 'CO', 'FIPS': 8},\n",
    "        'CT': {'full': 'Connecticut', 'two_digit': 'CT', 'FIPS': 9},\n",
    "        'DE': {'full': 'Delaware', 'two_digit': 'DE', 'FIPS': 10},\n",
    "        'DC': {'full': 'District of Columbia', 'two_digit': 'DC', 'FIPS': 11},\n",
    "        'FL': {'full': 'Florida', 'two_digit': 'FL', 'FIPS': 12},\n",
    "        'GA': {'full': 'Georgia', 'two_digit': 'GA', 'FIPS': 13},\n",
    "        'HI': {'full': 'Hawaii', 'two_digit': 'HI', 'FIPS': 15},\n",
    "        'ID': {'full': 'Idaho', 'two_digit': 'ID', 'FIPS': 16},\n",
    "        'IL': {'full': 'Illinois', 'two_digit': 'IL', 'FIPS': 17},\n",
    "        'IN': {'full': 'Indiana', 'two_digit': 'IN', 'FIPS': 18},\n",
    "        'IA': {'full': 'Iowa', 'two_digit': 'IA', 'FIPS': 19},\n",
    "        'KS': {'full': 'Kansas', 'two_digit': 'KS', 'FIPS': 20},\n",
    "        'KY': {'full': 'Kentucky', 'two_digit': 'KY', 'FIPS': 21},\n",
    "        'LA': {'full': 'Louisiana', 'two_digit': 'LA', 'FIPS': 22},\n",
    "        'ME': {'full': 'Maine', 'two_digit': 'ME', 'FIPS': 23},\n",
    "        'MD': {'full': 'Maryland', 'two_digit': 'MD', 'FIPS': 24},\n",
    "        'MA': {'full': 'Massachusetts', 'two_digit': 'MA', 'FIPS': 25},\n",
    "        'MI': {'full': 'Michigan', 'two_digit': 'MI', 'FIPS': 26},\n",
    "        'MN': {'full': 'Minnesota', 'two_digit': 'MN', 'FIPS': 27},\n",
    "        'MS': {'full': 'Mississippi', 'two_digit': 'MS', 'FIPS': 28},\n",
    "        'MO': {'full': 'Missouri', 'two_digit': 'MO', 'FIPS': 29},\n",
    "        'MT': {'full': 'Montana', 'two_digit': 'MT', 'FIPS': 30},\n",
    "        'NE': {'full': 'Nebraska', 'two_digit': 'NE', 'FIPS': 31},\n",
    "        'NV': {'full': 'Nevada', 'two_digit': 'NV', 'FIPS': 32},\n",
    "        'NH': {'full': 'New Hampshire', 'two_digit': 'NH', 'FIPS': 33},\n",
    "        'NJ': {'full': 'New Jersey', 'two_digit': 'NJ', 'FIPS': 34},\n",
    "        'NM': {'full': 'New Mexico', 'two_digit': 'NM', 'FIPS': 35},\n",
    "        'NY': {'full': 'New York', 'two_digit': 'NY', 'FIPS': 36},\n",
    "        'NC': {'full': 'North Carolina', 'two_digit': 'NC', 'FIPS': 37},\n",
    "        'ND': {'full': 'North Dakota', 'two_digit': 'ND', 'FIPS': 38},\n",
    "        'OH': {'full': 'Ohio', 'two_digit': 'OH', 'FIPS': 39},\n",
    "        'OK': {'full': 'Oklahoma', 'two_digit': 'OK', 'FIPS': 40},\n",
    "        'OR': {'full': 'Oregon', 'two_digit': 'OR', 'FIPS': 41},\n",
    "        'PA': {'full': 'Pennsylvania', 'two_digit': 'PA', 'FIPS': 42},\n",
    "        'RI': {'full': 'Rhode Island', 'two_digit': 'RI', 'FIPS': 44},\n",
    "        'SC': {'full': 'South Carolina', 'two_digit': 'SC', 'FIPS': 45},\n",
    "        'SD': {'full': 'South Dakota', 'two_digit': 'SD', 'FIPS': 46},\n",
    "        'TN': {'full': 'Tennessee', 'two_digit': 'TN', 'FIPS': 47},\n",
    "        'TX': {'full': 'Texas', 'two_digit': 'TX', 'FIPS': 48},\n",
    "        'UT': {'full': 'Utah', 'two_digit': 'UT', 'FIPS': 49},\n",
    "        'VT': {'full': 'Vermont', 'two_digit': 'VT', 'FIPS': 50},\n",
    "        'VA': {'full': 'Virginia', 'two_digit': 'VA', 'FIPS': 51},\n",
    "        'WA': {'full': 'Washington', 'two_digit': 'WA', 'FIPS': 53},\n",
    "        'WV': {'full': 'West Virginia', 'two_digit': 'WV', 'FIPS': 54},\n",
    "        'WI': {'full': 'Wisconsin', 'two_digit': 'WI', 'FIPS': 55},\n",
    "        'WY': {'full': 'Wyoming', 'two_digit': 'WY', 'FIPS': 56},\n",
    "        'PR': {'full': 'Puerto Rico', 'two_digit': 'PR', 'FIPS': 72}\n",
    "    }\n",
    "\n",
    "    if FIPS:\n",
    "        return code_hash[input]['FIPS']\n",
    "    \n",
    "    return None"
   ]
  },
  {
   "cell_type": "code",
   "execution_count": 10,
   "metadata": {},
   "outputs": [],
   "source": [
    "# converts district code from the money ball csv to a GEOID\n",
    "# ex. \"CT-HD-59\" --> '9059'\n",
    "# ex. \"MN-HD-13A\" --> '2713A'\n",
    "def getGEOID(district_str, leading_zero = False):\n",
    "    state, chamber, dist_num = district_str.split('-')\n",
    "    GEOID = str(get_state_code(state)) \n",
    "    if leading_zero and len(GEOID) < 2: \n",
    "        GEOID= '0' + GEOID\n",
    "    while len(dist_num) <3: \n",
    "        dist_num = '0' + dist_num\n",
    "    GEOID =  GEOID + dist_num\n",
    "    return GEOID"
   ]
  },
  {
   "cell_type": "code",
   "execution_count": 22,
   "metadata": {},
   "outputs": [],
   "source": [
    "# extracts the chamber type from the district code in the money ball csv\n",
    "# ex. \"CT-HD-59\" --> 'HD'\n",
    "def getChamber(district_str):\n",
    "    state, chamber, dist_num = district_str.split('-')\n",
    "    return chamber"
   ]
  },
  {
   "cell_type": "code",
   "execution_count": 21,
   "metadata": {},
   "outputs": [],
   "source": [
    "# extracts the district name.  Used for the non-numerical Massachussets \n",
    "# districts in place of GEOID matching\n",
    "def getName(district_str):\n",
    "    state, chamber, dist_str = district_str.split('-')\n",
    "    if len(dist_str) < 4 : return ''\n",
    "    return dist_str"
   ]
  },
  {
   "cell_type": "code",
   "execution_count": 38,
   "metadata": {},
   "outputs": [],
   "source": [
    "#################################################\n",
    "#  PROCESS + ADD FIELDS TO MONEYBALL MODEL CSV  #\n",
    "#################################################\n",
    "def process_moneyball_data(inFile, outFile):\n",
    "    df = pd.read_csv(data_dir / inFile)\n",
    "\n",
    "    lambdafunc = lambda x: pd.Series(\n",
    "        [getGEOID(x['district'], leading_zero = True),\n",
    "        getChamber(x['district']),\n",
    "        getName(x['district'])]\n",
    "    )\n",
    "    df [['GEOID', 'chamber', 'dist_name']] = df.apply(lambdafunc, axis = 1)\n",
    "\n",
    "    df.to_csv(data_dir / outFile, index=False, float_format='%.16f')"
   ]
  },
  {
   "cell_type": "code",
   "execution_count": 40,
   "metadata": {},
   "outputs": [],
   "source": [
    "process_moneyball_data('model-output-7-28.csv', 'processed_data.csv')"
   ]
  },
  {
   "cell_type": "code",
   "execution_count": 41,
   "metadata": {},
   "outputs": [],
   "source": [
    "    # read in moneyball data\n",
    "    df = pd.read_csv(data_dir / 'processed_data.csv')\n",
    "\n",
    "    # segment to upper and lower chamber\n",
    "    upper_df = df[df['chamber'] == 'SD']\n",
    "    lower_df = df[df['chamber'] == 'HD']"
   ]
  },
  {
   "cell_type": "code",
   "execution_count": 42,
   "metadata": {},
   "outputs": [
    {
     "output_type": "execute_result",
     "data": {
      "text/plain": "   state  district favored confidence        rep_nominee   dem_nominee  \\\n11    MN  MN-SD-14   FALSE    Toss-Up        Jerry Relph   Aric Putnam   \n12    MN  MN-SD-58   FALSE    Toss-Up     Zach Duckworth   Matt Little   \n15    MN  MN-SD-56   FALSE    Toss-Up           Dan Hall           TBA   \n23    MN  MN-SD-20       R       Lean       Rich Draheim     Jon Olson   \n24    MN  MN-SD-54       D       Lean  Leilani Holmstadt  Karla Bigham   \n\n   incumbent  redistricting_voter_power anti_gerrymandering_party  GEOID  \\\n11         R                  81.187213                         R  27014   \n12         D                  80.552036                         R  27058   \n15         R                  76.009501                         R  27056   \n23         R                  63.663220                         R  27020   \n24         D                  59.532556                         R  27054   \n\n   chamber dist_name  \n11      SD       NaN  \n12      SD       NaN  \n15      SD       NaN  \n23      SD       NaN  \n24      SD       NaN  ",
      "text/html": "<div>\n<style scoped>\n    .dataframe tbody tr th:only-of-type {\n        vertical-align: middle;\n    }\n\n    .dataframe tbody tr th {\n        vertical-align: top;\n    }\n\n    .dataframe thead th {\n        text-align: right;\n    }\n</style>\n<table border=\"1\" class=\"dataframe\">\n  <thead>\n    <tr style=\"text-align: right;\">\n      <th></th>\n      <th>state</th>\n      <th>district</th>\n      <th>favored</th>\n      <th>confidence</th>\n      <th>rep_nominee</th>\n      <th>dem_nominee</th>\n      <th>incumbent</th>\n      <th>redistricting_voter_power</th>\n      <th>anti_gerrymandering_party</th>\n      <th>GEOID</th>\n      <th>chamber</th>\n      <th>dist_name</th>\n    </tr>\n  </thead>\n  <tbody>\n    <tr>\n      <th>11</th>\n      <td>MN</td>\n      <td>MN-SD-14</td>\n      <td>FALSE</td>\n      <td>Toss-Up</td>\n      <td>Jerry Relph</td>\n      <td>Aric Putnam</td>\n      <td>R</td>\n      <td>81.187213</td>\n      <td>R</td>\n      <td>27014</td>\n      <td>SD</td>\n      <td>NaN</td>\n    </tr>\n    <tr>\n      <th>12</th>\n      <td>MN</td>\n      <td>MN-SD-58</td>\n      <td>FALSE</td>\n      <td>Toss-Up</td>\n      <td>Zach Duckworth</td>\n      <td>Matt Little</td>\n      <td>D</td>\n      <td>80.552036</td>\n      <td>R</td>\n      <td>27058</td>\n      <td>SD</td>\n      <td>NaN</td>\n    </tr>\n    <tr>\n      <th>15</th>\n      <td>MN</td>\n      <td>MN-SD-56</td>\n      <td>FALSE</td>\n      <td>Toss-Up</td>\n      <td>Dan Hall</td>\n      <td>TBA</td>\n      <td>R</td>\n      <td>76.009501</td>\n      <td>R</td>\n      <td>27056</td>\n      <td>SD</td>\n      <td>NaN</td>\n    </tr>\n    <tr>\n      <th>23</th>\n      <td>MN</td>\n      <td>MN-SD-20</td>\n      <td>R</td>\n      <td>Lean</td>\n      <td>Rich Draheim</td>\n      <td>Jon Olson</td>\n      <td>R</td>\n      <td>63.663220</td>\n      <td>R</td>\n      <td>27020</td>\n      <td>SD</td>\n      <td>NaN</td>\n    </tr>\n    <tr>\n      <th>24</th>\n      <td>MN</td>\n      <td>MN-SD-54</td>\n      <td>D</td>\n      <td>Lean</td>\n      <td>Leilani Holmstadt</td>\n      <td>Karla Bigham</td>\n      <td>D</td>\n      <td>59.532556</td>\n      <td>R</td>\n      <td>27054</td>\n      <td>SD</td>\n      <td>NaN</td>\n    </tr>\n  </tbody>\n</table>\n</div>"
     },
     "metadata": {},
     "execution_count": 42
    }
   ],
   "source": [
    "upper_df.head()"
   ]
  },
  {
   "cell_type": "code",
   "execution_count": 43,
   "metadata": {},
   "outputs": [
    {
     "output_type": "execute_result",
     "data": {
      "text/plain": "  state   district favored confidence        rep_nominee          dem_nominee  \\\n0    TX  TX-HD-112   FALSE    Toss-Up  Angie Chen Button      Brandy Chambers   \n1    TX   TX-HD-26       R       Tilt       Jacey Jetton  L. Sarah DeMerchant   \n2    KS   KS-HD-98   FALSE    Toss-Up         Ron Howard                  TBA   \n3    KS   KS-HD-48   FALSE    Toss-Up    Terry Frederick         Jennifer Day   \n4    TX   TX-HD-66   FALSE    Toss-Up       Matt Shaheen        Sharon Hirsch   \n\n  incumbent  redistricting_voter_power anti_gerrymandering_party  GEOID  \\\n0         R                 100.000000                         D  48112   \n1      Open                  93.309625                         D  48026   \n2         R                  91.500504                         D  20098   \n3         D                  90.745331                         D  20048   \n4         R                  90.409286                         D  48066   \n\n  chamber dist_name  \n0      HD       NaN  \n1      HD       NaN  \n2      HD       NaN  \n3      HD       NaN  \n4      HD       NaN  ",
      "text/html": "<div>\n<style scoped>\n    .dataframe tbody tr th:only-of-type {\n        vertical-align: middle;\n    }\n\n    .dataframe tbody tr th {\n        vertical-align: top;\n    }\n\n    .dataframe thead th {\n        text-align: right;\n    }\n</style>\n<table border=\"1\" class=\"dataframe\">\n  <thead>\n    <tr style=\"text-align: right;\">\n      <th></th>\n      <th>state</th>\n      <th>district</th>\n      <th>favored</th>\n      <th>confidence</th>\n      <th>rep_nominee</th>\n      <th>dem_nominee</th>\n      <th>incumbent</th>\n      <th>redistricting_voter_power</th>\n      <th>anti_gerrymandering_party</th>\n      <th>GEOID</th>\n      <th>chamber</th>\n      <th>dist_name</th>\n    </tr>\n  </thead>\n  <tbody>\n    <tr>\n      <th>0</th>\n      <td>TX</td>\n      <td>TX-HD-112</td>\n      <td>FALSE</td>\n      <td>Toss-Up</td>\n      <td>Angie Chen Button</td>\n      <td>Brandy Chambers</td>\n      <td>R</td>\n      <td>100.000000</td>\n      <td>D</td>\n      <td>48112</td>\n      <td>HD</td>\n      <td>NaN</td>\n    </tr>\n    <tr>\n      <th>1</th>\n      <td>TX</td>\n      <td>TX-HD-26</td>\n      <td>R</td>\n      <td>Tilt</td>\n      <td>Jacey Jetton</td>\n      <td>L. Sarah DeMerchant</td>\n      <td>Open</td>\n      <td>93.309625</td>\n      <td>D</td>\n      <td>48026</td>\n      <td>HD</td>\n      <td>NaN</td>\n    </tr>\n    <tr>\n      <th>2</th>\n      <td>KS</td>\n      <td>KS-HD-98</td>\n      <td>FALSE</td>\n      <td>Toss-Up</td>\n      <td>Ron Howard</td>\n      <td>TBA</td>\n      <td>R</td>\n      <td>91.500504</td>\n      <td>D</td>\n      <td>20098</td>\n      <td>HD</td>\n      <td>NaN</td>\n    </tr>\n    <tr>\n      <th>3</th>\n      <td>KS</td>\n      <td>KS-HD-48</td>\n      <td>FALSE</td>\n      <td>Toss-Up</td>\n      <td>Terry Frederick</td>\n      <td>Jennifer Day</td>\n      <td>D</td>\n      <td>90.745331</td>\n      <td>D</td>\n      <td>20048</td>\n      <td>HD</td>\n      <td>NaN</td>\n    </tr>\n    <tr>\n      <th>4</th>\n      <td>TX</td>\n      <td>TX-HD-66</td>\n      <td>FALSE</td>\n      <td>Toss-Up</td>\n      <td>Matt Shaheen</td>\n      <td>Sharon Hirsch</td>\n      <td>R</td>\n      <td>90.409286</td>\n      <td>D</td>\n      <td>48066</td>\n      <td>HD</td>\n      <td>NaN</td>\n    </tr>\n  </tbody>\n</table>\n</div>"
     },
     "metadata": {},
     "execution_count": 43
    }
   ],
   "source": [
    "lower_df.head()"
   ]
  },
  {
   "cell_type": "code",
   "execution_count": 44,
   "metadata": {},
   "outputs": [],
   "source": [
    "upper_shp = gpd.read_file(data_dir / 'UPPER_cb_2019_us_sldu_500k/cb_2019_us_sldu_500k.shp')"
   ]
  },
  {
   "cell_type": "code",
   "execution_count": 45,
   "metadata": {},
   "outputs": [
    {
     "output_type": "execute_result",
     "data": {
      "text/plain": "  STATEFP SLDUST        AFFGEOID  GEOID NAME LSAD   LSY       ALAND  \\\n0      34    016  610U600US34016  34016   16   LU  2018   763668910   \n1      23    026  610U600US23026  23026   26   LU  2018   535557926   \n2      31    023  610U600US31023  31023   23   LU  2018  4288368209   \n3      31    034  610U600US31034  31034   34   LU  2018  4230994361   \n4      30    005  610U600US30005  30005    5   LU  2018   835660316   \n\n      AWATER                                           geometry  \n0    7272222  POLYGON ((-75.04435 40.41259, -75.02472 40.431...  \n1  115675982  POLYGON ((-70.79991 43.85805, -70.79743 43.858...  \n2   54838073  POLYGON ((-97.36819 41.33874, -97.36822 41.358...  \n3   55826999  POLYGON ((-98.49394 40.85621, -98.49370 40.856...  \n4   95496113  POLYGON ((-114.33053 48.22589, -114.32399 48.2...  ",
      "text/html": "<div>\n<style scoped>\n    .dataframe tbody tr th:only-of-type {\n        vertical-align: middle;\n    }\n\n    .dataframe tbody tr th {\n        vertical-align: top;\n    }\n\n    .dataframe thead th {\n        text-align: right;\n    }\n</style>\n<table border=\"1\" class=\"dataframe\">\n  <thead>\n    <tr style=\"text-align: right;\">\n      <th></th>\n      <th>STATEFP</th>\n      <th>SLDUST</th>\n      <th>AFFGEOID</th>\n      <th>GEOID</th>\n      <th>NAME</th>\n      <th>LSAD</th>\n      <th>LSY</th>\n      <th>ALAND</th>\n      <th>AWATER</th>\n      <th>geometry</th>\n    </tr>\n  </thead>\n  <tbody>\n    <tr>\n      <th>0</th>\n      <td>34</td>\n      <td>016</td>\n      <td>610U600US34016</td>\n      <td>34016</td>\n      <td>16</td>\n      <td>LU</td>\n      <td>2018</td>\n      <td>763668910</td>\n      <td>7272222</td>\n      <td>POLYGON ((-75.04435 40.41259, -75.02472 40.431...</td>\n    </tr>\n    <tr>\n      <th>1</th>\n      <td>23</td>\n      <td>026</td>\n      <td>610U600US23026</td>\n      <td>23026</td>\n      <td>26</td>\n      <td>LU</td>\n      <td>2018</td>\n      <td>535557926</td>\n      <td>115675982</td>\n      <td>POLYGON ((-70.79991 43.85805, -70.79743 43.858...</td>\n    </tr>\n    <tr>\n      <th>2</th>\n      <td>31</td>\n      <td>023</td>\n      <td>610U600US31023</td>\n      <td>31023</td>\n      <td>23</td>\n      <td>LU</td>\n      <td>2018</td>\n      <td>4288368209</td>\n      <td>54838073</td>\n      <td>POLYGON ((-97.36819 41.33874, -97.36822 41.358...</td>\n    </tr>\n    <tr>\n      <th>3</th>\n      <td>31</td>\n      <td>034</td>\n      <td>610U600US31034</td>\n      <td>31034</td>\n      <td>34</td>\n      <td>LU</td>\n      <td>2018</td>\n      <td>4230994361</td>\n      <td>55826999</td>\n      <td>POLYGON ((-98.49394 40.85621, -98.49370 40.856...</td>\n    </tr>\n    <tr>\n      <th>4</th>\n      <td>30</td>\n      <td>005</td>\n      <td>610U600US30005</td>\n      <td>30005</td>\n      <td>5</td>\n      <td>LU</td>\n      <td>2018</td>\n      <td>835660316</td>\n      <td>95496113</td>\n      <td>POLYGON ((-114.33053 48.22589, -114.32399 48.2...</td>\n    </tr>\n  </tbody>\n</table>\n</div>"
     },
     "metadata": {},
     "execution_count": 45
    }
   ],
   "source": [
    "upper_shp.head()"
   ]
  },
  {
   "cell_type": "code",
   "execution_count": 52,
   "metadata": {},
   "outputs": [],
   "source": [
    "def pandas_lambda_geolocate(row, df, df_columns, default_values):\n",
    "    vals = []\n",
    "\n",
    "    # match by district name if MA\n",
    "    if row['STATEFP'] == '25':\n",
    "        geomatch = df[df['dist_name'] == row['NAME']]\n",
    "    else:\n",
    "        geomatch = df[df['GEOID'] == row['GEOID']]\n",
    "    \n",
    "    if len(geomatch.index) < 1:\n",
    "        #print (f\"No match found for GEOID: {row['GEOID']}\")\n",
    "        return pd.Series(default_values)\n",
    "    elif len(geomatch.index) > 1:\n",
    "        print(f\"More than one match found for GEOID: {row['GEOID']}\")\n",
    "    geomatch = geomatch.iloc[0]\n",
    "    \n",
    "    for i in range(0, len(df_columns)):\n",
    "        vals.append(geomatch[df_columns[i]])\n",
    "\n",
    "    return pd.Series(vals)"
   ]
  },
  {
   "cell_type": "code",
   "execution_count": 53,
   "metadata": {},
   "outputs": [],
   "source": [
    "def get_lean(row, df):\n",
    "    # match by district name if MA\n",
    "    if row['STATEFP'] == '25':\n",
    "        geomatch = df[df['dist_name'] == row['NAME']]\n",
    "    else:\n",
    "        geomatch = df[df['GEOID'] == row['GEOID']]\n",
    "    \n",
    "    if len(geomatch.index) < 1:\n",
    "        return 'no data'\n",
    "    elif len(geomatch.index) > 1:\n",
    "        print(f\"More than one match found for GEOID: {row['GEOID']}\")\n",
    "    geomatch = geomatch.iloc[0]\n",
    "    confidence = geomatch['confidence']\n",
    "    favored = geomatch['favored']\n",
    "    if confidence == 'Toss-Up': return confidence\n",
    "    return confidence + \" \" + favored"
   ]
  },
  {
   "cell_type": "code",
   "execution_count": 54,
   "metadata": {
    "tags": []
   },
   "outputs": [],
   "source": [
    "df_columns = ['district', 'rep_nominee', 'dem_nominee', 'incumbent', 'anti_gerrymandering_party', 'redistricting_voter_power']\n",
    "default_values = ['',       '',           '',           '',          '',     0]\n",
    "upper_shp[['DISTRICT', 'NOM_R', 'NOM_D', 'INCUMBENT','ANTI_GERRY_PARTY', 'VOTER_POWER']] = upper_shp.apply(lambda row: pandas_lambda_geolocate(row, upper_df, df_columns, default_values), axis = 1)\n",
    "upper_shp['LEAN'] = upper_shp.apply(lambda row: get_lean(row, upper_df), axis = 1)\n"
   ]
  },
  {
   "cell_type": "code",
   "execution_count": 58,
   "metadata": {},
   "outputs": [
    {
     "output_type": "execute_result",
     "data": {
      "text/plain": "     STATEFP SLDUST        AFFGEOID  GEOID NAME LSAD   LSY       ALAND  \\\n5         45    027  610U600US45027  45027   27   LU  2018  4099645368   \n7         45    026  610U600US45026  45026   26   LU  2018  1985374241   \n11        13    043  610U600US13043  13043   43   LU  2018   581735370   \n12        13    017  610U600US13017  13017   17   LU  2018  1144431704   \n17        27    028  610U600US27028  27028   28   LU  2018  4738895114   \n...      ...    ...             ...    ...  ...  ...   ...         ...   \n1947      09    011  610U600US09011  09011   11   LU  2018    81400167   \n1948      09    022  610U600US09022  09022   22   LU  2018    96689045   \n1949      09    015  610U600US09015  09015   15   LU  2018    84403620   \n1952      55    018  610U600US55018  55018   18   LU  2018  1568817945   \n1955      09    010  610U600US09010  09010   10   LU  2018    38870610   \n\n         AWATER                                           geometry  DISTRICT  \\\n5      50328510  POLYGON ((-80.89719 34.49168, -80.89565 34.493...  SC-SD-27   \n7      19510156  POLYGON ((-81.76577 33.62673, -81.76369 33.628...  SC-SD-26   \n11     11760621  POLYGON ((-84.18805 33.65409, -84.18391 33.655...  GA-SD-43   \n12     25560639  POLYGON ((-84.35419 33.35336, -84.35418 33.377...  GA-SD-17   \n17     72931748  POLYGON ((-92.44957 43.67444, -92.44953 43.682...  MN-SD-28   \n...         ...                                                ...       ...   \n1947    3543169  POLYGON ((-72.96324 41.43941, -72.95792 41.445...  CT-SD-11   \n1948    1876068  POLYGON ((-73.27603 41.30066, -73.27617 41.301...  CT-SD-22   \n1949    1300223  POLYGON ((-73.14504 41.55782, -73.13088 41.560...  CT-SD-15   \n1952  338125636  POLYGON ((-88.88634 44.04529, -88.88604 44.066...  WI-SD-18   \n1955    2102006  POLYGON ((-72.99711 41.32219, -72.99639 41.323...  CT-SD-10   \n\n                 NOM_R                NOM_D INCUMBENT ANTI_GERRY_PARTY  \\\n5      Penry Gustafson      Vincent Sheheen         D                D   \n7                  TBA        Nikki Setzler         D                D   \n11    Melanie Williams       Tonya Anderson         D                D   \n12    Brian Strickland           Kelly Rose         R                D   \n17       Jeremy Miller         Sarah Kruger         R                R   \n...                ...                  ...       ...              ...   \n1947             FALSE                FALSE         D                R   \n1948             FALSE                FALSE         D                R   \n1949             FALSE                FALSE         D                R   \n1952         Dan Feyen  Aaron Wojciechowski         R                D   \n1955             FALSE                FALSE         D                R   \n\n      VOTER_POWER      LEAN  \n5        0.052766  Likely D  \n7        0.019814    Safe D  \n11       0.001368    Safe D  \n12       0.244580  Likely R  \n17       4.197868    Safe R  \n...           ...       ...  \n1947     0.153386    Safe D  \n1948     0.261162    Safe D  \n1949     0.149968    Safe D  \n1952     0.487346  Likely R  \n1955     0.180681    Safe D  \n\n[399 rows x 17 columns]",
      "text/html": "<div>\n<style scoped>\n    .dataframe tbody tr th:only-of-type {\n        vertical-align: middle;\n    }\n\n    .dataframe tbody tr th {\n        vertical-align: top;\n    }\n\n    .dataframe thead th {\n        text-align: right;\n    }\n</style>\n<table border=\"1\" class=\"dataframe\">\n  <thead>\n    <tr style=\"text-align: right;\">\n      <th></th>\n      <th>STATEFP</th>\n      <th>SLDUST</th>\n      <th>AFFGEOID</th>\n      <th>GEOID</th>\n      <th>NAME</th>\n      <th>LSAD</th>\n      <th>LSY</th>\n      <th>ALAND</th>\n      <th>AWATER</th>\n      <th>geometry</th>\n      <th>DISTRICT</th>\n      <th>NOM_R</th>\n      <th>NOM_D</th>\n      <th>INCUMBENT</th>\n      <th>ANTI_GERRY_PARTY</th>\n      <th>VOTER_POWER</th>\n      <th>LEAN</th>\n    </tr>\n  </thead>\n  <tbody>\n    <tr>\n      <th>5</th>\n      <td>45</td>\n      <td>027</td>\n      <td>610U600US45027</td>\n      <td>45027</td>\n      <td>27</td>\n      <td>LU</td>\n      <td>2018</td>\n      <td>4099645368</td>\n      <td>50328510</td>\n      <td>POLYGON ((-80.89719 34.49168, -80.89565 34.493...</td>\n      <td>SC-SD-27</td>\n      <td>Penry Gustafson</td>\n      <td>Vincent Sheheen</td>\n      <td>D</td>\n      <td>D</td>\n      <td>0.052766</td>\n      <td>Likely D</td>\n    </tr>\n    <tr>\n      <th>7</th>\n      <td>45</td>\n      <td>026</td>\n      <td>610U600US45026</td>\n      <td>45026</td>\n      <td>26</td>\n      <td>LU</td>\n      <td>2018</td>\n      <td>1985374241</td>\n      <td>19510156</td>\n      <td>POLYGON ((-81.76577 33.62673, -81.76369 33.628...</td>\n      <td>SC-SD-26</td>\n      <td>TBA</td>\n      <td>Nikki Setzler</td>\n      <td>D</td>\n      <td>D</td>\n      <td>0.019814</td>\n      <td>Safe D</td>\n    </tr>\n    <tr>\n      <th>11</th>\n      <td>13</td>\n      <td>043</td>\n      <td>610U600US13043</td>\n      <td>13043</td>\n      <td>43</td>\n      <td>LU</td>\n      <td>2018</td>\n      <td>581735370</td>\n      <td>11760621</td>\n      <td>POLYGON ((-84.18805 33.65409, -84.18391 33.655...</td>\n      <td>GA-SD-43</td>\n      <td>Melanie Williams</td>\n      <td>Tonya Anderson</td>\n      <td>D</td>\n      <td>D</td>\n      <td>0.001368</td>\n      <td>Safe D</td>\n    </tr>\n    <tr>\n      <th>12</th>\n      <td>13</td>\n      <td>017</td>\n      <td>610U600US13017</td>\n      <td>13017</td>\n      <td>17</td>\n      <td>LU</td>\n      <td>2018</td>\n      <td>1144431704</td>\n      <td>25560639</td>\n      <td>POLYGON ((-84.35419 33.35336, -84.35418 33.377...</td>\n      <td>GA-SD-17</td>\n      <td>Brian Strickland</td>\n      <td>Kelly Rose</td>\n      <td>R</td>\n      <td>D</td>\n      <td>0.244580</td>\n      <td>Likely R</td>\n    </tr>\n    <tr>\n      <th>17</th>\n      <td>27</td>\n      <td>028</td>\n      <td>610U600US27028</td>\n      <td>27028</td>\n      <td>28</td>\n      <td>LU</td>\n      <td>2018</td>\n      <td>4738895114</td>\n      <td>72931748</td>\n      <td>POLYGON ((-92.44957 43.67444, -92.44953 43.682...</td>\n      <td>MN-SD-28</td>\n      <td>Jeremy Miller</td>\n      <td>Sarah Kruger</td>\n      <td>R</td>\n      <td>R</td>\n      <td>4.197868</td>\n      <td>Safe R</td>\n    </tr>\n    <tr>\n      <th>...</th>\n      <td>...</td>\n      <td>...</td>\n      <td>...</td>\n      <td>...</td>\n      <td>...</td>\n      <td>...</td>\n      <td>...</td>\n      <td>...</td>\n      <td>...</td>\n      <td>...</td>\n      <td>...</td>\n      <td>...</td>\n      <td>...</td>\n      <td>...</td>\n      <td>...</td>\n      <td>...</td>\n      <td>...</td>\n    </tr>\n    <tr>\n      <th>1947</th>\n      <td>09</td>\n      <td>011</td>\n      <td>610U600US09011</td>\n      <td>09011</td>\n      <td>11</td>\n      <td>LU</td>\n      <td>2018</td>\n      <td>81400167</td>\n      <td>3543169</td>\n      <td>POLYGON ((-72.96324 41.43941, -72.95792 41.445...</td>\n      <td>CT-SD-11</td>\n      <td>FALSE</td>\n      <td>FALSE</td>\n      <td>D</td>\n      <td>R</td>\n      <td>0.153386</td>\n      <td>Safe D</td>\n    </tr>\n    <tr>\n      <th>1948</th>\n      <td>09</td>\n      <td>022</td>\n      <td>610U600US09022</td>\n      <td>09022</td>\n      <td>22</td>\n      <td>LU</td>\n      <td>2018</td>\n      <td>96689045</td>\n      <td>1876068</td>\n      <td>POLYGON ((-73.27603 41.30066, -73.27617 41.301...</td>\n      <td>CT-SD-22</td>\n      <td>FALSE</td>\n      <td>FALSE</td>\n      <td>D</td>\n      <td>R</td>\n      <td>0.261162</td>\n      <td>Safe D</td>\n    </tr>\n    <tr>\n      <th>1949</th>\n      <td>09</td>\n      <td>015</td>\n      <td>610U600US09015</td>\n      <td>09015</td>\n      <td>15</td>\n      <td>LU</td>\n      <td>2018</td>\n      <td>84403620</td>\n      <td>1300223</td>\n      <td>POLYGON ((-73.14504 41.55782, -73.13088 41.560...</td>\n      <td>CT-SD-15</td>\n      <td>FALSE</td>\n      <td>FALSE</td>\n      <td>D</td>\n      <td>R</td>\n      <td>0.149968</td>\n      <td>Safe D</td>\n    </tr>\n    <tr>\n      <th>1952</th>\n      <td>55</td>\n      <td>018</td>\n      <td>610U600US55018</td>\n      <td>55018</td>\n      <td>18</td>\n      <td>LU</td>\n      <td>2018</td>\n      <td>1568817945</td>\n      <td>338125636</td>\n      <td>POLYGON ((-88.88634 44.04529, -88.88604 44.066...</td>\n      <td>WI-SD-18</td>\n      <td>Dan Feyen</td>\n      <td>Aaron Wojciechowski</td>\n      <td>R</td>\n      <td>D</td>\n      <td>0.487346</td>\n      <td>Likely R</td>\n    </tr>\n    <tr>\n      <th>1955</th>\n      <td>09</td>\n      <td>010</td>\n      <td>610U600US09010</td>\n      <td>09010</td>\n      <td>10</td>\n      <td>LU</td>\n      <td>2018</td>\n      <td>38870610</td>\n      <td>2102006</td>\n      <td>POLYGON ((-72.99711 41.32219, -72.99639 41.323...</td>\n      <td>CT-SD-10</td>\n      <td>FALSE</td>\n      <td>FALSE</td>\n      <td>D</td>\n      <td>R</td>\n      <td>0.180681</td>\n      <td>Safe D</td>\n    </tr>\n  </tbody>\n</table>\n<p>399 rows × 17 columns</p>\n</div>"
     },
     "metadata": {},
     "execution_count": 58
    }
   ],
   "source": [
    "upper_shp[upper_shp['VOTER_POWER'] != 0]"
   ]
  },
  {
   "cell_type": "code",
   "execution_count": 59,
   "metadata": {},
   "outputs": [
    {
     "output_type": "execute_result",
     "data": {
      "text/plain": "     STATEFP SLDUST        AFFGEOID  GEOID  \\\n610       25    032  610U600US25032  25032   \n616       25    039  610U600US25039  25039   \n629       25    030  610U600US25030  25030   \n913       25    006  610U600US25006  25006   \n914       25    020  610U600US25020  25020   \n915       25    040  610U600US25040  25040   \n916       25    036  610U600US25036  25036   \n917       25    012  610U600US25012  25012   \n918       25    001  610U600US25001  25001   \n919       25    005  610U600US25005  25005   \n920       25    016  610U600US25016  25016   \n926       25    007  610U600US25007  25007   \n941       25    017  610U600US25017  25017   \n1009      25    008  610U600US25008  25008   \n1037      25    014  610U600US25014  25014   \n1038      25    003  610U600US25003  25003   \n1045      25    019  610U600US25019  25019   \n1061      25    010  610U600US25010  25010   \n1126      25    033  610U600US25033  25033   \n1127      25    022  610U600US25022  25022   \n1153      25    028  610U600US25028  25028   \n1210      25    026  610U600US25026  25026   \n1276      25    031  610U600US25031  25031   \n1294      25    015  610U600US25015  25015   \n1357      25    034  610U600US25034  25034   \n1359      25    027  610U600US25027  25027   \n1360      25    037  610U600US25037  25037   \n1365      25    021  610U600US25021  25021   \n1688      25    025  610U600US25025  25025   \n1737      25    002  610U600US25002  25002   \n1745      25    024  610U600US25024  25024   \n1784      25    013  610U600US25013  25013   \n1785      25    011  610U600US25011  25011   \n1796      25    018  610U600US25018  25018   \n1807      25    029  610U600US25029  25029   \n1844      25    038  610U600US25038  25038   \n1896      25    009  610U600US25009  25009   \n1897      25    004  610U600US25004  25004   \n1924      25    035  610U600US25035  25035   \n1925      25    023  610U600US25023  25023   \n\n                                           NAME LSAD   LSY       ALAND  \\\n610                 Norfolk, Bristol & Plymouth   07  2018   310027353   \n616                       Plymouth & Barnstable   07  2018   684946160   \n629                           Norfolk & Suffolk   07  2018   160873306   \n913             Hampshire, Franklin & Worcester   07  2018  1679268589   \n914                     First Essex & Middlesex   07  2018   705022591   \n915                              Cape & Islands   07  2018  1077398767   \n916                    First Plymouth & Bristol   07  2018   749270390   \n917                         Worcester & Norfolk   07  2018   671304442   \n918                               First Suffolk   07  2018    33403472   \n919                  Second Hampden & Hampshire   07  2018   705719470   \n920                             Third Middlesex   07  2018   366565278   \n926                   First Hampden & Hampshire   07  2018   522326130   \n941                Norfolk, Bristol & Middlesex   07  2018   394626735   \n1009  Worcester, Hampden, Hampshire & Middlesex   07  2018  2183320944   \n1037                      Middlesex & Worcester   07  2018   521349542   \n1038                                    Hampden   07  2018    98345439   \n1045                                First Essex   07  2018   279858417   \n1061                            First Worcester   07  2018   362832976   \n1126                         Norfolk & Plymouth   07  2018   134466004   \n1127                                Third Essex   07  2018   103215279   \n1153                 Second Suffolk & Middlesex   07  2018    33948294   \n1210                        Middlesex & Suffolk   07  2018    29204128   \n1276                          Bristol & Norfolk   07  2018   513473343   \n1294                 Second Middlesex & Norfolk   07  2018   292306910   \n1357                         Plymouth & Norfolk   07  2018   368085358   \n1359                  First Suffolk & Middlesex   07  2018    38935041   \n1360                   First Bristol & Plymouth   07  2018   546888811   \n1365                               Second Essex   07  2018   167791968   \n1688                           Second Middlesex   07  2018    48280870   \n1737                             Second Suffolk   07  2018    31067908   \n1745                           Fourth Middlesex   07  2018   168687094   \n1784                            First Middlesex   07  2018   343042906   \n1785                           Second Worcester   07  2018   367439173   \n1796                   Second Essex & Middlesex   07  2018   204979147   \n1807                  First Middlesex & Norfolk   07  2018    80080972   \n1844                  Second Bristol & Plymouth   07  2018   334433087   \n1896                      Worcester & Middlesex   07  2018   689588971   \n1897   Berkshire, Hampshire, Franklin & Hampden   07  2018  3829644770   \n1924                  Second Plymouth & Bristol   07  2018   280137218   \n1925                            Fifth Middlesex   07  2018    92230575   \n\n          AWATER                                           geometry  \\\n610     11502659  POLYGON ((-71.19348 42.09751, -71.18880 42.100...   \n616    622397074  MULTIPOLYGON (((-70.63965 42.01080, -70.63639 ...   \n629      4172289  POLYGON ((-71.34166 42.22192, -71.34101 42.224...   \n913     78349072  POLYGON ((-72.77926 42.73575, -72.68617 42.733...   \n914    463616100  MULTIPOLYGON (((-70.58029 42.63602, -70.57509 ...   \n915   3889421769  MULTIPOLYGON (((-70.23405 41.28565, -70.22361 ...   \n916     84583201  POLYGON ((-71.20346 41.88184, -71.18679 41.879...   \n917     27773825  POLYGON ((-72.07443 42.05846, -72.06642 42.072...   \n918    119112810  MULTIPOLYGON (((-70.93091 42.32160, -70.93025 ...   \n919     21875171  POLYGON ((-73.07484 42.10615, -73.07305 42.106...   \n920     13515326  MULTIPOLYGON (((-71.38994 42.36533, -71.38897 ...   \n926     14927860  POLYGON ((-72.60825 42.03831, -72.60755 42.042...   \n941     14125607  POLYGON ((-71.45590 42.03489, -71.45475 42.044...   \n1009   107840037  POLYGON ((-72.39548 42.18574, -72.36077 42.189...   \n1037    20699527  POLYGON ((-71.67769 42.53941, -71.67190 42.571...   \n1038     5101980  POLYGON ((-72.69453 42.10649, -72.69303 42.112...   \n1045    65674972  POLYGON ((-71.25520 42.73664, -71.24554 42.742...   \n1061    22375000  POLYGON ((-71.92029 42.47454, -71.93319 42.482...   \n1126    28470733  POLYGON ((-71.09319 42.21394, -71.08016 42.218...   \n1127   285891614  MULTIPOLYGON (((-70.83563 42.48440, -70.83371 ...   \n1153     1673073  POLYGON ((-71.21706 42.36657, -71.21148 42.371...   \n1210     3089695  POLYGON ((-71.14620 42.36130, -71.14617 42.361...   \n1276    12849072  POLYGON ((-71.35148 42.21155, -71.35039 42.213...   \n1294    13496409  POLYGON ((-71.59932 42.22596, -71.59287 42.243...   \n1357   535859347  MULTIPOLYGON (((-70.88335 42.34049, -70.88158 ...   \n1359    37919046  POLYGON ((-71.11812 42.36958, -71.11733 42.369...   \n1360   159515009  POLYGON ((-71.31639 41.77551, -71.29246 41.774...   \n1365    51526876  MULTIPOLYGON (((-70.78878 42.53401, -70.78866 ...   \n1688     3027507  POLYGON ((-71.18963 42.44983, -71.18004 42.453...   \n1737      423295  POLYGON ((-71.14547 42.26972, -71.14451 42.271...   \n1745     3995124  POLYGON ((-71.33254 42.56076, -71.31963 42.575...   \n1784    13592435  POLYGON ((-71.66046 42.63513, -71.65798 42.649...   \n1785    14053634  POLYGON ((-71.96053 42.28142, -71.90819 42.283...   \n1796     7784413  POLYGON ((-71.37876 42.68301, -71.37401 42.689...   \n1807     1299969  POLYGON ((-71.32733 42.31375, -71.31721 42.316...   \n1844   269837705  MULTIPOLYGON (((-70.83595 41.60252, -70.83358 ...   \n1896    19306467  POLYGON ((-72.04607 42.60184, -72.03505 42.608...   \n1897    67871227  POLYGON ((-73.50814 42.08626, -73.49717 42.116...   \n1924     8265261  POLYGON ((-71.11589 42.04736, -71.11060 42.049...   \n1925     3850829  POLYGON ((-71.15054 42.46429, -71.14601 42.465...   \n\n                                             DISTRICT  NOM_R  NOM_D INCUMBENT  \\\n610                 MA-SD-Norfolk, Bristol & Plymouth  FALSE  FALSE         D   \n616                       MA-SD-Plymouth & Barnstable  FALSE  FALSE         D   \n629                           MA-SD-Norfolk & Suffolk  FALSE  FALSE         D   \n913             MA-SD-Hampshire, Franklin & Worcester  FALSE  FALSE         D   \n914                     MA-SD-First Essex & Middlesex  FALSE  FALSE         R   \n915                              MA-SD-Cape & Islands  FALSE  FALSE         D   \n916                    MA-SD-First Plymouth & Bristol  FALSE  FALSE         D   \n917                         MA-SD-Worcester & Norfolk  FALSE  FALSE         R   \n918                               MA-SD-First Suffolk  FALSE  FALSE         D   \n919                  MA-SD-Second Hampden & Hampshire  FALSE  FALSE         D   \n920                             MA-SD-Third Middlesex  FALSE  FALSE         D   \n926                   MA-SD-First Hampden & Hampshire  FALSE  FALSE         D   \n941                MA-SD-Norfolk, Bristol & Middlesex  FALSE  FALSE         D   \n1009  MA-SD-Worcester, Hampden, Hampshire & Middlesex  FALSE  FALSE         D   \n1037                      MA-SD-Middlesex & Worcester  FALSE  FALSE         D   \n1038                                    MA-SD-Hampden  FALSE  FALSE         D   \n1045                                MA-SD-First Essex  FALSE  FALSE         D   \n1061                            MA-SD-First Worcester  FALSE  FALSE         D   \n1126                         MA-SD-Norfolk & Plymouth  FALSE  FALSE         D   \n1127                                MA-SD-Third Essex  FALSE  FALSE         D   \n1153                 MA-SD-Second Suffolk & Middlesex  FALSE  FALSE         D   \n1210                        MA-SD-Middlesex & Suffolk  FALSE  FALSE         D   \n1276                          MA-SD-Bristol & Norfolk  FALSE  FALSE         D   \n1294                 MA-SD-Second Middlesex & Norfolk  FALSE  FALSE         D   \n1357                         MA-SD-Plymouth & Norfolk  FALSE  FALSE         R   \n1359                  MA-SD-First Suffolk & Middlesex  FALSE  FALSE         D   \n1360                   MA-SD-First Bristol & Plymouth  FALSE  FALSE         D   \n1365                               MA-SD-Second Essex  FALSE  FALSE         D   \n1688                           MA-SD-Second Middlesex  FALSE  FALSE         D   \n1737                             MA-SD-Second Suffolk  FALSE  FALSE         D   \n1745                           MA-SD-Fourth Middlesex  FALSE  FALSE         D   \n1784                            MA-SD-First Middlesex  FALSE  FALSE         D   \n1785                           MA-SD-Second Worcester  FALSE  FALSE         D   \n1796                   MA-SD-Second Essex & Middlesex  FALSE  FALSE         D   \n1807                  MA-SD-First Middlesex & Norfolk  FALSE  FALSE         D   \n1844                  MA-SD-Second Bristol & Plymouth  FALSE  FALSE         D   \n1896                      MA-SD-Worcester & Middlesex  FALSE  FALSE         R   \n1897   MA-SD-Berkshire, Hampshire, Franklin & Hampden  FALSE  FALSE         D   \n1924                  MA-SD-Second Plymouth & Bristol  FALSE  FALSE         D   \n1925                            MA-SD-Fifth Middlesex  FALSE  FALSE         D   \n\n     ANTI_GERRY_PARTY  VOTER_POWER      LEAN  \n610                 R     0.003757    Safe D  \n616                 R     0.000100    Tilt D  \n629                 R     0.003637    Safe D  \n913                 R     0.003456    Safe D  \n914                 R     0.000005    Safe R  \n915                 R     0.003204    Safe D  \n916                 R     0.003260    Safe D  \n917                 R     0.000012    Safe R  \n918                 R     0.003109    Safe D  \n919                 R     0.000196    Lean D  \n920                 R     0.003617    Safe D  \n926                 R     0.003569    Safe D  \n941                 R     0.000172    Tilt D  \n1009                R     0.000816  Likely D  \n1037                R     0.003560    Safe D  \n1038                R     0.003904    Safe D  \n1045                R     0.003356    Safe D  \n1061                R     0.003464    Safe D  \n1126                R     0.003737    Safe D  \n1127                R     0.003832    Safe D  \n1153                R     0.002845    Safe D  \n1210                R     0.003290    Safe D  \n1276                R     0.003127    Safe D  \n1294                R     0.003980    Safe D  \n1357                R     0.000037    Lean R  \n1359                R     0.003288    Safe D  \n1360                R     0.003566    Safe D  \n1365                R     0.003355    Safe D  \n1688                R     0.002924    Safe D  \n1737                R     0.003176    Safe D  \n1745                R     0.003602    Safe D  \n1784                R     0.003739    Safe D  \n1785                R     0.003587    Safe D  \n1796                R     0.003946    Safe D  \n1807                R     0.003713    Safe D  \n1844                R     0.003680    Safe D  \n1896                R     0.000039    Lean R  \n1897                R     0.003484    Safe D  \n1924                R     0.004013    Safe D  \n1925                R     0.003508    Safe D  ",
      "text/html": "<div>\n<style scoped>\n    .dataframe tbody tr th:only-of-type {\n        vertical-align: middle;\n    }\n\n    .dataframe tbody tr th {\n        vertical-align: top;\n    }\n\n    .dataframe thead th {\n        text-align: right;\n    }\n</style>\n<table border=\"1\" class=\"dataframe\">\n  <thead>\n    <tr style=\"text-align: right;\">\n      <th></th>\n      <th>STATEFP</th>\n      <th>SLDUST</th>\n      <th>AFFGEOID</th>\n      <th>GEOID</th>\n      <th>NAME</th>\n      <th>LSAD</th>\n      <th>LSY</th>\n      <th>ALAND</th>\n      <th>AWATER</th>\n      <th>geometry</th>\n      <th>DISTRICT</th>\n      <th>NOM_R</th>\n      <th>NOM_D</th>\n      <th>INCUMBENT</th>\n      <th>ANTI_GERRY_PARTY</th>\n      <th>VOTER_POWER</th>\n      <th>LEAN</th>\n    </tr>\n  </thead>\n  <tbody>\n    <tr>\n      <th>610</th>\n      <td>25</td>\n      <td>032</td>\n      <td>610U600US25032</td>\n      <td>25032</td>\n      <td>Norfolk, Bristol &amp; Plymouth</td>\n      <td>07</td>\n      <td>2018</td>\n      <td>310027353</td>\n      <td>11502659</td>\n      <td>POLYGON ((-71.19348 42.09751, -71.18880 42.100...</td>\n      <td>MA-SD-Norfolk, Bristol &amp; Plymouth</td>\n      <td>FALSE</td>\n      <td>FALSE</td>\n      <td>D</td>\n      <td>R</td>\n      <td>0.003757</td>\n      <td>Safe D</td>\n    </tr>\n    <tr>\n      <th>616</th>\n      <td>25</td>\n      <td>039</td>\n      <td>610U600US25039</td>\n      <td>25039</td>\n      <td>Plymouth &amp; Barnstable</td>\n      <td>07</td>\n      <td>2018</td>\n      <td>684946160</td>\n      <td>622397074</td>\n      <td>MULTIPOLYGON (((-70.63965 42.01080, -70.63639 ...</td>\n      <td>MA-SD-Plymouth &amp; Barnstable</td>\n      <td>FALSE</td>\n      <td>FALSE</td>\n      <td>D</td>\n      <td>R</td>\n      <td>0.000100</td>\n      <td>Tilt D</td>\n    </tr>\n    <tr>\n      <th>629</th>\n      <td>25</td>\n      <td>030</td>\n      <td>610U600US25030</td>\n      <td>25030</td>\n      <td>Norfolk &amp; Suffolk</td>\n      <td>07</td>\n      <td>2018</td>\n      <td>160873306</td>\n      <td>4172289</td>\n      <td>POLYGON ((-71.34166 42.22192, -71.34101 42.224...</td>\n      <td>MA-SD-Norfolk &amp; Suffolk</td>\n      <td>FALSE</td>\n      <td>FALSE</td>\n      <td>D</td>\n      <td>R</td>\n      <td>0.003637</td>\n      <td>Safe D</td>\n    </tr>\n    <tr>\n      <th>913</th>\n      <td>25</td>\n      <td>006</td>\n      <td>610U600US25006</td>\n      <td>25006</td>\n      <td>Hampshire, Franklin &amp; Worcester</td>\n      <td>07</td>\n      <td>2018</td>\n      <td>1679268589</td>\n      <td>78349072</td>\n      <td>POLYGON ((-72.77926 42.73575, -72.68617 42.733...</td>\n      <td>MA-SD-Hampshire, Franklin &amp; Worcester</td>\n      <td>FALSE</td>\n      <td>FALSE</td>\n      <td>D</td>\n      <td>R</td>\n      <td>0.003456</td>\n      <td>Safe D</td>\n    </tr>\n    <tr>\n      <th>914</th>\n      <td>25</td>\n      <td>020</td>\n      <td>610U600US25020</td>\n      <td>25020</td>\n      <td>First Essex &amp; Middlesex</td>\n      <td>07</td>\n      <td>2018</td>\n      <td>705022591</td>\n      <td>463616100</td>\n      <td>MULTIPOLYGON (((-70.58029 42.63602, -70.57509 ...</td>\n      <td>MA-SD-First Essex &amp; Middlesex</td>\n      <td>FALSE</td>\n      <td>FALSE</td>\n      <td>R</td>\n      <td>R</td>\n      <td>0.000005</td>\n      <td>Safe R</td>\n    </tr>\n    <tr>\n      <th>915</th>\n      <td>25</td>\n      <td>040</td>\n      <td>610U600US25040</td>\n      <td>25040</td>\n      <td>Cape &amp; Islands</td>\n      <td>07</td>\n      <td>2018</td>\n      <td>1077398767</td>\n      <td>3889421769</td>\n      <td>MULTIPOLYGON (((-70.23405 41.28565, -70.22361 ...</td>\n      <td>MA-SD-Cape &amp; Islands</td>\n      <td>FALSE</td>\n      <td>FALSE</td>\n      <td>D</td>\n      <td>R</td>\n      <td>0.003204</td>\n      <td>Safe D</td>\n    </tr>\n    <tr>\n      <th>916</th>\n      <td>25</td>\n      <td>036</td>\n      <td>610U600US25036</td>\n      <td>25036</td>\n      <td>First Plymouth &amp; Bristol</td>\n      <td>07</td>\n      <td>2018</td>\n      <td>749270390</td>\n      <td>84583201</td>\n      <td>POLYGON ((-71.20346 41.88184, -71.18679 41.879...</td>\n      <td>MA-SD-First Plymouth &amp; Bristol</td>\n      <td>FALSE</td>\n      <td>FALSE</td>\n      <td>D</td>\n      <td>R</td>\n      <td>0.003260</td>\n      <td>Safe D</td>\n    </tr>\n    <tr>\n      <th>917</th>\n      <td>25</td>\n      <td>012</td>\n      <td>610U600US25012</td>\n      <td>25012</td>\n      <td>Worcester &amp; Norfolk</td>\n      <td>07</td>\n      <td>2018</td>\n      <td>671304442</td>\n      <td>27773825</td>\n      <td>POLYGON ((-72.07443 42.05846, -72.06642 42.072...</td>\n      <td>MA-SD-Worcester &amp; Norfolk</td>\n      <td>FALSE</td>\n      <td>FALSE</td>\n      <td>R</td>\n      <td>R</td>\n      <td>0.000012</td>\n      <td>Safe R</td>\n    </tr>\n    <tr>\n      <th>918</th>\n      <td>25</td>\n      <td>001</td>\n      <td>610U600US25001</td>\n      <td>25001</td>\n      <td>First Suffolk</td>\n      <td>07</td>\n      <td>2018</td>\n      <td>33403472</td>\n      <td>119112810</td>\n      <td>MULTIPOLYGON (((-70.93091 42.32160, -70.93025 ...</td>\n      <td>MA-SD-First Suffolk</td>\n      <td>FALSE</td>\n      <td>FALSE</td>\n      <td>D</td>\n      <td>R</td>\n      <td>0.003109</td>\n      <td>Safe D</td>\n    </tr>\n    <tr>\n      <th>919</th>\n      <td>25</td>\n      <td>005</td>\n      <td>610U600US25005</td>\n      <td>25005</td>\n      <td>Second Hampden &amp; Hampshire</td>\n      <td>07</td>\n      <td>2018</td>\n      <td>705719470</td>\n      <td>21875171</td>\n      <td>POLYGON ((-73.07484 42.10615, -73.07305 42.106...</td>\n      <td>MA-SD-Second Hampden &amp; Hampshire</td>\n      <td>FALSE</td>\n      <td>FALSE</td>\n      <td>D</td>\n      <td>R</td>\n      <td>0.000196</td>\n      <td>Lean D</td>\n    </tr>\n    <tr>\n      <th>920</th>\n      <td>25</td>\n      <td>016</td>\n      <td>610U600US25016</td>\n      <td>25016</td>\n      <td>Third Middlesex</td>\n      <td>07</td>\n      <td>2018</td>\n      <td>366565278</td>\n      <td>13515326</td>\n      <td>MULTIPOLYGON (((-71.38994 42.36533, -71.38897 ...</td>\n      <td>MA-SD-Third Middlesex</td>\n      <td>FALSE</td>\n      <td>FALSE</td>\n      <td>D</td>\n      <td>R</td>\n      <td>0.003617</td>\n      <td>Safe D</td>\n    </tr>\n    <tr>\n      <th>926</th>\n      <td>25</td>\n      <td>007</td>\n      <td>610U600US25007</td>\n      <td>25007</td>\n      <td>First Hampden &amp; Hampshire</td>\n      <td>07</td>\n      <td>2018</td>\n      <td>522326130</td>\n      <td>14927860</td>\n      <td>POLYGON ((-72.60825 42.03831, -72.60755 42.042...</td>\n      <td>MA-SD-First Hampden &amp; Hampshire</td>\n      <td>FALSE</td>\n      <td>FALSE</td>\n      <td>D</td>\n      <td>R</td>\n      <td>0.003569</td>\n      <td>Safe D</td>\n    </tr>\n    <tr>\n      <th>941</th>\n      <td>25</td>\n      <td>017</td>\n      <td>610U600US25017</td>\n      <td>25017</td>\n      <td>Norfolk, Bristol &amp; Middlesex</td>\n      <td>07</td>\n      <td>2018</td>\n      <td>394626735</td>\n      <td>14125607</td>\n      <td>POLYGON ((-71.45590 42.03489, -71.45475 42.044...</td>\n      <td>MA-SD-Norfolk, Bristol &amp; Middlesex</td>\n      <td>FALSE</td>\n      <td>FALSE</td>\n      <td>D</td>\n      <td>R</td>\n      <td>0.000172</td>\n      <td>Tilt D</td>\n    </tr>\n    <tr>\n      <th>1009</th>\n      <td>25</td>\n      <td>008</td>\n      <td>610U600US25008</td>\n      <td>25008</td>\n      <td>Worcester, Hampden, Hampshire &amp; Middlesex</td>\n      <td>07</td>\n      <td>2018</td>\n      <td>2183320944</td>\n      <td>107840037</td>\n      <td>POLYGON ((-72.39548 42.18574, -72.36077 42.189...</td>\n      <td>MA-SD-Worcester, Hampden, Hampshire &amp; Middlesex</td>\n      <td>FALSE</td>\n      <td>FALSE</td>\n      <td>D</td>\n      <td>R</td>\n      <td>0.000816</td>\n      <td>Likely D</td>\n    </tr>\n    <tr>\n      <th>1037</th>\n      <td>25</td>\n      <td>014</td>\n      <td>610U600US25014</td>\n      <td>25014</td>\n      <td>Middlesex &amp; Worcester</td>\n      <td>07</td>\n      <td>2018</td>\n      <td>521349542</td>\n      <td>20699527</td>\n      <td>POLYGON ((-71.67769 42.53941, -71.67190 42.571...</td>\n      <td>MA-SD-Middlesex &amp; Worcester</td>\n      <td>FALSE</td>\n      <td>FALSE</td>\n      <td>D</td>\n      <td>R</td>\n      <td>0.003560</td>\n      <td>Safe D</td>\n    </tr>\n    <tr>\n      <th>1038</th>\n      <td>25</td>\n      <td>003</td>\n      <td>610U600US25003</td>\n      <td>25003</td>\n      <td>Hampden</td>\n      <td>07</td>\n      <td>2018</td>\n      <td>98345439</td>\n      <td>5101980</td>\n      <td>POLYGON ((-72.69453 42.10649, -72.69303 42.112...</td>\n      <td>MA-SD-Hampden</td>\n      <td>FALSE</td>\n      <td>FALSE</td>\n      <td>D</td>\n      <td>R</td>\n      <td>0.003904</td>\n      <td>Safe D</td>\n    </tr>\n    <tr>\n      <th>1045</th>\n      <td>25</td>\n      <td>019</td>\n      <td>610U600US25019</td>\n      <td>25019</td>\n      <td>First Essex</td>\n      <td>07</td>\n      <td>2018</td>\n      <td>279858417</td>\n      <td>65674972</td>\n      <td>POLYGON ((-71.25520 42.73664, -71.24554 42.742...</td>\n      <td>MA-SD-First Essex</td>\n      <td>FALSE</td>\n      <td>FALSE</td>\n      <td>D</td>\n      <td>R</td>\n      <td>0.003356</td>\n      <td>Safe D</td>\n    </tr>\n    <tr>\n      <th>1061</th>\n      <td>25</td>\n      <td>010</td>\n      <td>610U600US25010</td>\n      <td>25010</td>\n      <td>First Worcester</td>\n      <td>07</td>\n      <td>2018</td>\n      <td>362832976</td>\n      <td>22375000</td>\n      <td>POLYGON ((-71.92029 42.47454, -71.93319 42.482...</td>\n      <td>MA-SD-First Worcester</td>\n      <td>FALSE</td>\n      <td>FALSE</td>\n      <td>D</td>\n      <td>R</td>\n      <td>0.003464</td>\n      <td>Safe D</td>\n    </tr>\n    <tr>\n      <th>1126</th>\n      <td>25</td>\n      <td>033</td>\n      <td>610U600US25033</td>\n      <td>25033</td>\n      <td>Norfolk &amp; Plymouth</td>\n      <td>07</td>\n      <td>2018</td>\n      <td>134466004</td>\n      <td>28470733</td>\n      <td>POLYGON ((-71.09319 42.21394, -71.08016 42.218...</td>\n      <td>MA-SD-Norfolk &amp; Plymouth</td>\n      <td>FALSE</td>\n      <td>FALSE</td>\n      <td>D</td>\n      <td>R</td>\n      <td>0.003737</td>\n      <td>Safe D</td>\n    </tr>\n    <tr>\n      <th>1127</th>\n      <td>25</td>\n      <td>022</td>\n      <td>610U600US25022</td>\n      <td>25022</td>\n      <td>Third Essex</td>\n      <td>07</td>\n      <td>2018</td>\n      <td>103215279</td>\n      <td>285891614</td>\n      <td>MULTIPOLYGON (((-70.83563 42.48440, -70.83371 ...</td>\n      <td>MA-SD-Third Essex</td>\n      <td>FALSE</td>\n      <td>FALSE</td>\n      <td>D</td>\n      <td>R</td>\n      <td>0.003832</td>\n      <td>Safe D</td>\n    </tr>\n    <tr>\n      <th>1153</th>\n      <td>25</td>\n      <td>028</td>\n      <td>610U600US25028</td>\n      <td>25028</td>\n      <td>Second Suffolk &amp; Middlesex</td>\n      <td>07</td>\n      <td>2018</td>\n      <td>33948294</td>\n      <td>1673073</td>\n      <td>POLYGON ((-71.21706 42.36657, -71.21148 42.371...</td>\n      <td>MA-SD-Second Suffolk &amp; Middlesex</td>\n      <td>FALSE</td>\n      <td>FALSE</td>\n      <td>D</td>\n      <td>R</td>\n      <td>0.002845</td>\n      <td>Safe D</td>\n    </tr>\n    <tr>\n      <th>1210</th>\n      <td>25</td>\n      <td>026</td>\n      <td>610U600US25026</td>\n      <td>25026</td>\n      <td>Middlesex &amp; Suffolk</td>\n      <td>07</td>\n      <td>2018</td>\n      <td>29204128</td>\n      <td>3089695</td>\n      <td>POLYGON ((-71.14620 42.36130, -71.14617 42.361...</td>\n      <td>MA-SD-Middlesex &amp; Suffolk</td>\n      <td>FALSE</td>\n      <td>FALSE</td>\n      <td>D</td>\n      <td>R</td>\n      <td>0.003290</td>\n      <td>Safe D</td>\n    </tr>\n    <tr>\n      <th>1276</th>\n      <td>25</td>\n      <td>031</td>\n      <td>610U600US25031</td>\n      <td>25031</td>\n      <td>Bristol &amp; Norfolk</td>\n      <td>07</td>\n      <td>2018</td>\n      <td>513473343</td>\n      <td>12849072</td>\n      <td>POLYGON ((-71.35148 42.21155, -71.35039 42.213...</td>\n      <td>MA-SD-Bristol &amp; Norfolk</td>\n      <td>FALSE</td>\n      <td>FALSE</td>\n      <td>D</td>\n      <td>R</td>\n      <td>0.003127</td>\n      <td>Safe D</td>\n    </tr>\n    <tr>\n      <th>1294</th>\n      <td>25</td>\n      <td>015</td>\n      <td>610U600US25015</td>\n      <td>25015</td>\n      <td>Second Middlesex &amp; Norfolk</td>\n      <td>07</td>\n      <td>2018</td>\n      <td>292306910</td>\n      <td>13496409</td>\n      <td>POLYGON ((-71.59932 42.22596, -71.59287 42.243...</td>\n      <td>MA-SD-Second Middlesex &amp; Norfolk</td>\n      <td>FALSE</td>\n      <td>FALSE</td>\n      <td>D</td>\n      <td>R</td>\n      <td>0.003980</td>\n      <td>Safe D</td>\n    </tr>\n    <tr>\n      <th>1357</th>\n      <td>25</td>\n      <td>034</td>\n      <td>610U600US25034</td>\n      <td>25034</td>\n      <td>Plymouth &amp; Norfolk</td>\n      <td>07</td>\n      <td>2018</td>\n      <td>368085358</td>\n      <td>535859347</td>\n      <td>MULTIPOLYGON (((-70.88335 42.34049, -70.88158 ...</td>\n      <td>MA-SD-Plymouth &amp; Norfolk</td>\n      <td>FALSE</td>\n      <td>FALSE</td>\n      <td>R</td>\n      <td>R</td>\n      <td>0.000037</td>\n      <td>Lean R</td>\n    </tr>\n    <tr>\n      <th>1359</th>\n      <td>25</td>\n      <td>027</td>\n      <td>610U600US25027</td>\n      <td>25027</td>\n      <td>First Suffolk &amp; Middlesex</td>\n      <td>07</td>\n      <td>2018</td>\n      <td>38935041</td>\n      <td>37919046</td>\n      <td>POLYGON ((-71.11812 42.36958, -71.11733 42.369...</td>\n      <td>MA-SD-First Suffolk &amp; Middlesex</td>\n      <td>FALSE</td>\n      <td>FALSE</td>\n      <td>D</td>\n      <td>R</td>\n      <td>0.003288</td>\n      <td>Safe D</td>\n    </tr>\n    <tr>\n      <th>1360</th>\n      <td>25</td>\n      <td>037</td>\n      <td>610U600US25037</td>\n      <td>25037</td>\n      <td>First Bristol &amp; Plymouth</td>\n      <td>07</td>\n      <td>2018</td>\n      <td>546888811</td>\n      <td>159515009</td>\n      <td>POLYGON ((-71.31639 41.77551, -71.29246 41.774...</td>\n      <td>MA-SD-First Bristol &amp; Plymouth</td>\n      <td>FALSE</td>\n      <td>FALSE</td>\n      <td>D</td>\n      <td>R</td>\n      <td>0.003566</td>\n      <td>Safe D</td>\n    </tr>\n    <tr>\n      <th>1365</th>\n      <td>25</td>\n      <td>021</td>\n      <td>610U600US25021</td>\n      <td>25021</td>\n      <td>Second Essex</td>\n      <td>07</td>\n      <td>2018</td>\n      <td>167791968</td>\n      <td>51526876</td>\n      <td>MULTIPOLYGON (((-70.78878 42.53401, -70.78866 ...</td>\n      <td>MA-SD-Second Essex</td>\n      <td>FALSE</td>\n      <td>FALSE</td>\n      <td>D</td>\n      <td>R</td>\n      <td>0.003355</td>\n      <td>Safe D</td>\n    </tr>\n    <tr>\n      <th>1688</th>\n      <td>25</td>\n      <td>025</td>\n      <td>610U600US25025</td>\n      <td>25025</td>\n      <td>Second Middlesex</td>\n      <td>07</td>\n      <td>2018</td>\n      <td>48280870</td>\n      <td>3027507</td>\n      <td>POLYGON ((-71.18963 42.44983, -71.18004 42.453...</td>\n      <td>MA-SD-Second Middlesex</td>\n      <td>FALSE</td>\n      <td>FALSE</td>\n      <td>D</td>\n      <td>R</td>\n      <td>0.002924</td>\n      <td>Safe D</td>\n    </tr>\n    <tr>\n      <th>1737</th>\n      <td>25</td>\n      <td>002</td>\n      <td>610U600US25002</td>\n      <td>25002</td>\n      <td>Second Suffolk</td>\n      <td>07</td>\n      <td>2018</td>\n      <td>31067908</td>\n      <td>423295</td>\n      <td>POLYGON ((-71.14547 42.26972, -71.14451 42.271...</td>\n      <td>MA-SD-Second Suffolk</td>\n      <td>FALSE</td>\n      <td>FALSE</td>\n      <td>D</td>\n      <td>R</td>\n      <td>0.003176</td>\n      <td>Safe D</td>\n    </tr>\n    <tr>\n      <th>1745</th>\n      <td>25</td>\n      <td>024</td>\n      <td>610U600US25024</td>\n      <td>25024</td>\n      <td>Fourth Middlesex</td>\n      <td>07</td>\n      <td>2018</td>\n      <td>168687094</td>\n      <td>3995124</td>\n      <td>POLYGON ((-71.33254 42.56076, -71.31963 42.575...</td>\n      <td>MA-SD-Fourth Middlesex</td>\n      <td>FALSE</td>\n      <td>FALSE</td>\n      <td>D</td>\n      <td>R</td>\n      <td>0.003602</td>\n      <td>Safe D</td>\n    </tr>\n    <tr>\n      <th>1784</th>\n      <td>25</td>\n      <td>013</td>\n      <td>610U600US25013</td>\n      <td>25013</td>\n      <td>First Middlesex</td>\n      <td>07</td>\n      <td>2018</td>\n      <td>343042906</td>\n      <td>13592435</td>\n      <td>POLYGON ((-71.66046 42.63513, -71.65798 42.649...</td>\n      <td>MA-SD-First Middlesex</td>\n      <td>FALSE</td>\n      <td>FALSE</td>\n      <td>D</td>\n      <td>R</td>\n      <td>0.003739</td>\n      <td>Safe D</td>\n    </tr>\n    <tr>\n      <th>1785</th>\n      <td>25</td>\n      <td>011</td>\n      <td>610U600US25011</td>\n      <td>25011</td>\n      <td>Second Worcester</td>\n      <td>07</td>\n      <td>2018</td>\n      <td>367439173</td>\n      <td>14053634</td>\n      <td>POLYGON ((-71.96053 42.28142, -71.90819 42.283...</td>\n      <td>MA-SD-Second Worcester</td>\n      <td>FALSE</td>\n      <td>FALSE</td>\n      <td>D</td>\n      <td>R</td>\n      <td>0.003587</td>\n      <td>Safe D</td>\n    </tr>\n    <tr>\n      <th>1796</th>\n      <td>25</td>\n      <td>018</td>\n      <td>610U600US25018</td>\n      <td>25018</td>\n      <td>Second Essex &amp; Middlesex</td>\n      <td>07</td>\n      <td>2018</td>\n      <td>204979147</td>\n      <td>7784413</td>\n      <td>POLYGON ((-71.37876 42.68301, -71.37401 42.689...</td>\n      <td>MA-SD-Second Essex &amp; Middlesex</td>\n      <td>FALSE</td>\n      <td>FALSE</td>\n      <td>D</td>\n      <td>R</td>\n      <td>0.003946</td>\n      <td>Safe D</td>\n    </tr>\n    <tr>\n      <th>1807</th>\n      <td>25</td>\n      <td>029</td>\n      <td>610U600US25029</td>\n      <td>25029</td>\n      <td>First Middlesex &amp; Norfolk</td>\n      <td>07</td>\n      <td>2018</td>\n      <td>80080972</td>\n      <td>1299969</td>\n      <td>POLYGON ((-71.32733 42.31375, -71.31721 42.316...</td>\n      <td>MA-SD-First Middlesex &amp; Norfolk</td>\n      <td>FALSE</td>\n      <td>FALSE</td>\n      <td>D</td>\n      <td>R</td>\n      <td>0.003713</td>\n      <td>Safe D</td>\n    </tr>\n    <tr>\n      <th>1844</th>\n      <td>25</td>\n      <td>038</td>\n      <td>610U600US25038</td>\n      <td>25038</td>\n      <td>Second Bristol &amp; Plymouth</td>\n      <td>07</td>\n      <td>2018</td>\n      <td>334433087</td>\n      <td>269837705</td>\n      <td>MULTIPOLYGON (((-70.83595 41.60252, -70.83358 ...</td>\n      <td>MA-SD-Second Bristol &amp; Plymouth</td>\n      <td>FALSE</td>\n      <td>FALSE</td>\n      <td>D</td>\n      <td>R</td>\n      <td>0.003680</td>\n      <td>Safe D</td>\n    </tr>\n    <tr>\n      <th>1896</th>\n      <td>25</td>\n      <td>009</td>\n      <td>610U600US25009</td>\n      <td>25009</td>\n      <td>Worcester &amp; Middlesex</td>\n      <td>07</td>\n      <td>2018</td>\n      <td>689588971</td>\n      <td>19306467</td>\n      <td>POLYGON ((-72.04607 42.60184, -72.03505 42.608...</td>\n      <td>MA-SD-Worcester &amp; Middlesex</td>\n      <td>FALSE</td>\n      <td>FALSE</td>\n      <td>R</td>\n      <td>R</td>\n      <td>0.000039</td>\n      <td>Lean R</td>\n    </tr>\n    <tr>\n      <th>1897</th>\n      <td>25</td>\n      <td>004</td>\n      <td>610U600US25004</td>\n      <td>25004</td>\n      <td>Berkshire, Hampshire, Franklin &amp; Hampden</td>\n      <td>07</td>\n      <td>2018</td>\n      <td>3829644770</td>\n      <td>67871227</td>\n      <td>POLYGON ((-73.50814 42.08626, -73.49717 42.116...</td>\n      <td>MA-SD-Berkshire, Hampshire, Franklin &amp; Hampden</td>\n      <td>FALSE</td>\n      <td>FALSE</td>\n      <td>D</td>\n      <td>R</td>\n      <td>0.003484</td>\n      <td>Safe D</td>\n    </tr>\n    <tr>\n      <th>1924</th>\n      <td>25</td>\n      <td>035</td>\n      <td>610U600US25035</td>\n      <td>25035</td>\n      <td>Second Plymouth &amp; Bristol</td>\n      <td>07</td>\n      <td>2018</td>\n      <td>280137218</td>\n      <td>8265261</td>\n      <td>POLYGON ((-71.11589 42.04736, -71.11060 42.049...</td>\n      <td>MA-SD-Second Plymouth &amp; Bristol</td>\n      <td>FALSE</td>\n      <td>FALSE</td>\n      <td>D</td>\n      <td>R</td>\n      <td>0.004013</td>\n      <td>Safe D</td>\n    </tr>\n    <tr>\n      <th>1925</th>\n      <td>25</td>\n      <td>023</td>\n      <td>610U600US25023</td>\n      <td>25023</td>\n      <td>Fifth Middlesex</td>\n      <td>07</td>\n      <td>2018</td>\n      <td>92230575</td>\n      <td>3850829</td>\n      <td>POLYGON ((-71.15054 42.46429, -71.14601 42.465...</td>\n      <td>MA-SD-Fifth Middlesex</td>\n      <td>FALSE</td>\n      <td>FALSE</td>\n      <td>D</td>\n      <td>R</td>\n      <td>0.003508</td>\n      <td>Safe D</td>\n    </tr>\n  </tbody>\n</table>\n</div>"
     },
     "metadata": {},
     "execution_count": 59
    }
   ],
   "source": [
    "upper_shp[upper_shp['STATEFP'] == '25']"
   ]
  },
  {
   "cell_type": "code",
   "execution_count": 72,
   "metadata": {},
   "outputs": [],
   "source": [
    "# choose columns you want in output\n",
    "upper_shp = upper_shp[['STATEFP', 'GEOID', 'DISTRICT', 'NOM_R', 'NOM_D', 'INCUMBENT','ANTI_GERRY_PARTY', 'LEAN', 'VOTER_POWER', 'geometry']]\t\n",
    "\n",
    "upper_shp['NOM_R'].replace({'FALSE': ''}, inplace =True)\n",
    "upper_shp['NOM_D'].replace({'FALSE': ''}, inplace =True)"
   ]
  },
  {
   "cell_type": "code",
   "execution_count": 73,
   "metadata": {},
   "outputs": [
    {
     "output_type": "execute_result",
     "data": {
      "text/plain": "     STATEFP  GEOID  DISTRICT             NOM_R                NOM_D  \\\n5         45  45027  SC-SD-27   Penry Gustafson      Vincent Sheheen   \n7         45  45026  SC-SD-26               TBA        Nikki Setzler   \n11        13  13043  GA-SD-43  Melanie Williams       Tonya Anderson   \n12        13  13017  GA-SD-17  Brian Strickland           Kelly Rose   \n17        27  27028  MN-SD-28     Jeremy Miller         Sarah Kruger   \n...      ...    ...       ...               ...                  ...   \n1947      09  09011  CT-SD-11                                          \n1948      09  09022  CT-SD-22                                          \n1949      09  09015  CT-SD-15                                          \n1952      55  55018  WI-SD-18         Dan Feyen  Aaron Wojciechowski   \n1955      09  09010  CT-SD-10                                          \n\n     INCUMBENT ANTI_GERRY_PARTY      LEAN  VOTER_POWER  \\\n5            D                D  Likely D     0.052766   \n7            D                D    Safe D     0.019814   \n11           D                D    Safe D     0.001368   \n12           R                D  Likely R     0.244580   \n17           R                R    Safe R     4.197868   \n...        ...              ...       ...          ...   \n1947         D                R    Safe D     0.153386   \n1948         D                R    Safe D     0.261162   \n1949         D                R    Safe D     0.149968   \n1952         R                D  Likely R     0.487346   \n1955         D                R    Safe D     0.180681   \n\n                                               geometry  \n5     POLYGON ((-80.89719 34.49168, -80.89565 34.493...  \n7     POLYGON ((-81.76577 33.62673, -81.76369 33.628...  \n11    POLYGON ((-84.18805 33.65409, -84.18391 33.655...  \n12    POLYGON ((-84.35419 33.35336, -84.35418 33.377...  \n17    POLYGON ((-92.44957 43.67444, -92.44953 43.682...  \n...                                                 ...  \n1947  POLYGON ((-72.96324 41.43941, -72.95792 41.445...  \n1948  POLYGON ((-73.27603 41.30066, -73.27617 41.301...  \n1949  POLYGON ((-73.14504 41.55782, -73.13088 41.560...  \n1952  POLYGON ((-88.88634 44.04529, -88.88604 44.066...  \n1955  POLYGON ((-72.99711 41.32219, -72.99639 41.323...  \n\n[399 rows x 10 columns]",
      "text/html": "<div>\n<style scoped>\n    .dataframe tbody tr th:only-of-type {\n        vertical-align: middle;\n    }\n\n    .dataframe tbody tr th {\n        vertical-align: top;\n    }\n\n    .dataframe thead th {\n        text-align: right;\n    }\n</style>\n<table border=\"1\" class=\"dataframe\">\n  <thead>\n    <tr style=\"text-align: right;\">\n      <th></th>\n      <th>STATEFP</th>\n      <th>GEOID</th>\n      <th>DISTRICT</th>\n      <th>NOM_R</th>\n      <th>NOM_D</th>\n      <th>INCUMBENT</th>\n      <th>ANTI_GERRY_PARTY</th>\n      <th>LEAN</th>\n      <th>VOTER_POWER</th>\n      <th>geometry</th>\n    </tr>\n  </thead>\n  <tbody>\n    <tr>\n      <th>5</th>\n      <td>45</td>\n      <td>45027</td>\n      <td>SC-SD-27</td>\n      <td>Penry Gustafson</td>\n      <td>Vincent Sheheen</td>\n      <td>D</td>\n      <td>D</td>\n      <td>Likely D</td>\n      <td>0.052766</td>\n      <td>POLYGON ((-80.89719 34.49168, -80.89565 34.493...</td>\n    </tr>\n    <tr>\n      <th>7</th>\n      <td>45</td>\n      <td>45026</td>\n      <td>SC-SD-26</td>\n      <td>TBA</td>\n      <td>Nikki Setzler</td>\n      <td>D</td>\n      <td>D</td>\n      <td>Safe D</td>\n      <td>0.019814</td>\n      <td>POLYGON ((-81.76577 33.62673, -81.76369 33.628...</td>\n    </tr>\n    <tr>\n      <th>11</th>\n      <td>13</td>\n      <td>13043</td>\n      <td>GA-SD-43</td>\n      <td>Melanie Williams</td>\n      <td>Tonya Anderson</td>\n      <td>D</td>\n      <td>D</td>\n      <td>Safe D</td>\n      <td>0.001368</td>\n      <td>POLYGON ((-84.18805 33.65409, -84.18391 33.655...</td>\n    </tr>\n    <tr>\n      <th>12</th>\n      <td>13</td>\n      <td>13017</td>\n      <td>GA-SD-17</td>\n      <td>Brian Strickland</td>\n      <td>Kelly Rose</td>\n      <td>R</td>\n      <td>D</td>\n      <td>Likely R</td>\n      <td>0.244580</td>\n      <td>POLYGON ((-84.35419 33.35336, -84.35418 33.377...</td>\n    </tr>\n    <tr>\n      <th>17</th>\n      <td>27</td>\n      <td>27028</td>\n      <td>MN-SD-28</td>\n      <td>Jeremy Miller</td>\n      <td>Sarah Kruger</td>\n      <td>R</td>\n      <td>R</td>\n      <td>Safe R</td>\n      <td>4.197868</td>\n      <td>POLYGON ((-92.44957 43.67444, -92.44953 43.682...</td>\n    </tr>\n    <tr>\n      <th>...</th>\n      <td>...</td>\n      <td>...</td>\n      <td>...</td>\n      <td>...</td>\n      <td>...</td>\n      <td>...</td>\n      <td>...</td>\n      <td>...</td>\n      <td>...</td>\n      <td>...</td>\n    </tr>\n    <tr>\n      <th>1947</th>\n      <td>09</td>\n      <td>09011</td>\n      <td>CT-SD-11</td>\n      <td></td>\n      <td></td>\n      <td>D</td>\n      <td>R</td>\n      <td>Safe D</td>\n      <td>0.153386</td>\n      <td>POLYGON ((-72.96324 41.43941, -72.95792 41.445...</td>\n    </tr>\n    <tr>\n      <th>1948</th>\n      <td>09</td>\n      <td>09022</td>\n      <td>CT-SD-22</td>\n      <td></td>\n      <td></td>\n      <td>D</td>\n      <td>R</td>\n      <td>Safe D</td>\n      <td>0.261162</td>\n      <td>POLYGON ((-73.27603 41.30066, -73.27617 41.301...</td>\n    </tr>\n    <tr>\n      <th>1949</th>\n      <td>09</td>\n      <td>09015</td>\n      <td>CT-SD-15</td>\n      <td></td>\n      <td></td>\n      <td>D</td>\n      <td>R</td>\n      <td>Safe D</td>\n      <td>0.149968</td>\n      <td>POLYGON ((-73.14504 41.55782, -73.13088 41.560...</td>\n    </tr>\n    <tr>\n      <th>1952</th>\n      <td>55</td>\n      <td>55018</td>\n      <td>WI-SD-18</td>\n      <td>Dan Feyen</td>\n      <td>Aaron Wojciechowski</td>\n      <td>R</td>\n      <td>D</td>\n      <td>Likely R</td>\n      <td>0.487346</td>\n      <td>POLYGON ((-88.88634 44.04529, -88.88604 44.066...</td>\n    </tr>\n    <tr>\n      <th>1955</th>\n      <td>09</td>\n      <td>09010</td>\n      <td>CT-SD-10</td>\n      <td></td>\n      <td></td>\n      <td>D</td>\n      <td>R</td>\n      <td>Safe D</td>\n      <td>0.180681</td>\n      <td>POLYGON ((-72.99711 41.32219, -72.99639 41.323...</td>\n    </tr>\n  </tbody>\n</table>\n<p>399 rows × 10 columns</p>\n</div>"
     },
     "metadata": {},
     "execution_count": 73
    }
   ],
   "source": [
    "upper_shp[upper_shp['VOTER_POWER'] != 0]"
   ]
  },
  {
   "cell_type": "code",
   "execution_count": 75,
   "metadata": {},
   "outputs": [
    {
     "output_type": "execute_result",
     "data": {
      "text/plain": "399"
     },
     "metadata": {},
     "execution_count": 75
    }
   ],
   "source": [
    "len(upper_shp[upper_shp['VOTER_POWER'] != 0].index)"
   ]
  },
  {
   "cell_type": "code",
   "execution_count": 74,
   "metadata": {},
   "outputs": [],
   "source": [
    "upper_shp.to_file(out_dir / \"upper_state_moneyball.geojson\", driver=\"GeoJSON\")"
   ]
  },
  {
   "cell_type": "markdown",
   "metadata": {},
   "source": [
    "Previous lower geojson size: 46.8mb\n",
    "Previous upper geojson size: 32.7mb"
   ]
  }
 ]
}