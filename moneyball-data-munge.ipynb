{
 "metadata": {
  "language_info": {
   "codemirror_mode": {
    "name": "ipython",
    "version": 3
   },
   "file_extension": ".py",
   "mimetype": "text/x-python",
   "name": "python",
   "nbconvert_exporter": "python",
   "pygments_lexer": "ipython3",
   "version": 3
  },
  "orig_nbformat": 2,
  "kernelspec": {
   "name": "python_defaultSpec_1595871760712",
   "display_name": "Python 3.7.3 64-bit"
  }
 },
 "nbformat": 4,
 "nbformat_minor": 2,
 "cells": [
  {
   "cell_type": "code",
   "execution_count": 2,
   "metadata": {},
   "outputs": [],
   "source": [
    "\n",
    "import pandas as pd \n",
    "import geopandas as gpd\n",
    "import csv\n",
    "from pathlib import Path\n",
    "\n",
    "from collections import OrderedDict"
   ]
  },
  {
   "cell_type": "code",
   "execution_count": 3,
   "metadata": {},
   "outputs": [],
   "source": [
    "data_dir = Path.cwd() / \"data\"\n",
    "out_dir = Path.cwd() / \"out-files\""
   ]
  },
  {
   "cell_type": "code",
   "execution_count": 6,
   "metadata": {},
   "outputs": [],
   "source": [
    "    # read in moneyball data\n",
    "    df = pd.read_csv(data_dir / 'processed_data.csv')\n",
    "\n",
    "    # segment to upper and lower chamber\n",
    "    upper_df = df[df['chamber'] == 'SD']\n",
    "    lower_df = df[df['chamber'] == 'HD']"
   ]
  },
  {
   "cell_type": "code",
   "execution_count": 7,
   "metadata": {},
   "outputs": [
    {
     "output_type": "execute_result",
     "data": {
      "text/plain": "    state district incumbent favored confidence  nom_R  nom_D  nom_I  \\\n151    CT  CT-SD-1         D       D       Safe  FALSE  FALSE  FALSE   \n152    CT  CT-SD-2         D       D       Safe  FALSE  FALSE  FALSE   \n153    CT  CT-SD-3         D       D       Safe  FALSE  FALSE  FALSE   \n154    CT  CT-SD-4         D       D     Likely  FALSE  FALSE  FALSE   \n155    CT  CT-SD-5         D       D       Safe  FALSE  FALSE  FALSE   \n\n     turnout_cvap   VOTER_POWER GEOID chamber  \n151         34015 -7.900000e-07  9001      SD  \n152         36836 -7.300000e-07  9002      SD  \n153         38453 -6.990000e-07  9003      SD  \n154         38997 -2.280000e-06  9004      SD  \n155         38559 -6.970000e-07  9005      SD  ",
      "text/html": "<div>\n<style scoped>\n    .dataframe tbody tr th:only-of-type {\n        vertical-align: middle;\n    }\n\n    .dataframe tbody tr th {\n        vertical-align: top;\n    }\n\n    .dataframe thead th {\n        text-align: right;\n    }\n</style>\n<table border=\"1\" class=\"dataframe\">\n  <thead>\n    <tr style=\"text-align: right;\">\n      <th></th>\n      <th>state</th>\n      <th>district</th>\n      <th>incumbent</th>\n      <th>favored</th>\n      <th>confidence</th>\n      <th>nom_R</th>\n      <th>nom_D</th>\n      <th>nom_I</th>\n      <th>turnout_cvap</th>\n      <th>VOTER_POWER</th>\n      <th>GEOID</th>\n      <th>chamber</th>\n    </tr>\n  </thead>\n  <tbody>\n    <tr>\n      <th>151</th>\n      <td>CT</td>\n      <td>CT-SD-1</td>\n      <td>D</td>\n      <td>D</td>\n      <td>Safe</td>\n      <td>FALSE</td>\n      <td>FALSE</td>\n      <td>FALSE</td>\n      <td>34015</td>\n      <td>-7.900000e-07</td>\n      <td>9001</td>\n      <td>SD</td>\n    </tr>\n    <tr>\n      <th>152</th>\n      <td>CT</td>\n      <td>CT-SD-2</td>\n      <td>D</td>\n      <td>D</td>\n      <td>Safe</td>\n      <td>FALSE</td>\n      <td>FALSE</td>\n      <td>FALSE</td>\n      <td>36836</td>\n      <td>-7.300000e-07</td>\n      <td>9002</td>\n      <td>SD</td>\n    </tr>\n    <tr>\n      <th>153</th>\n      <td>CT</td>\n      <td>CT-SD-3</td>\n      <td>D</td>\n      <td>D</td>\n      <td>Safe</td>\n      <td>FALSE</td>\n      <td>FALSE</td>\n      <td>FALSE</td>\n      <td>38453</td>\n      <td>-6.990000e-07</td>\n      <td>9003</td>\n      <td>SD</td>\n    </tr>\n    <tr>\n      <th>154</th>\n      <td>CT</td>\n      <td>CT-SD-4</td>\n      <td>D</td>\n      <td>D</td>\n      <td>Likely</td>\n      <td>FALSE</td>\n      <td>FALSE</td>\n      <td>FALSE</td>\n      <td>38997</td>\n      <td>-2.280000e-06</td>\n      <td>9004</td>\n      <td>SD</td>\n    </tr>\n    <tr>\n      <th>155</th>\n      <td>CT</td>\n      <td>CT-SD-5</td>\n      <td>D</td>\n      <td>D</td>\n      <td>Safe</td>\n      <td>FALSE</td>\n      <td>FALSE</td>\n      <td>FALSE</td>\n      <td>38559</td>\n      <td>-6.970000e-07</td>\n      <td>9005</td>\n      <td>SD</td>\n    </tr>\n  </tbody>\n</table>\n</div>"
     },
     "metadata": {},
     "execution_count": 7
    }
   ],
   "source": [
    "upper_df.head()"
   ]
  },
  {
   "cell_type": "code",
   "execution_count": 8,
   "metadata": {},
   "outputs": [
    {
     "output_type": "execute_result",
     "data": {
      "text/plain": "  state district incumbent favored confidence  nom_R  nom_D  nom_I  \\\n0    CT  CT-HD-1         D       D       Safe  FALSE  FALSE  FALSE   \n1    CT  CT-HD-2         D       D       Lean  FALSE  FALSE  FALSE   \n2    CT  CT-HD-3         D       D       Safe  FALSE  FALSE  FALSE   \n3    CT  CT-HD-4         D       D       Safe  FALSE  FALSE  FALSE   \n4    CT  CT-HD-5         D       D       Safe  FALSE  FALSE  FALSE   \n\n   turnout_cvap   VOTER_POWER GEOID chamber  \n0          8256 -7.480000e-07  9001      HD  \n1          9538 -2.770000e-06  9002      HD  \n2          7240 -8.530000e-07  9003      HD  \n3          8519 -7.250000e-07  9004      HD  \n4          8851 -6.980000e-07  9005      HD  ",
      "text/html": "<div>\n<style scoped>\n    .dataframe tbody tr th:only-of-type {\n        vertical-align: middle;\n    }\n\n    .dataframe tbody tr th {\n        vertical-align: top;\n    }\n\n    .dataframe thead th {\n        text-align: right;\n    }\n</style>\n<table border=\"1\" class=\"dataframe\">\n  <thead>\n    <tr style=\"text-align: right;\">\n      <th></th>\n      <th>state</th>\n      <th>district</th>\n      <th>incumbent</th>\n      <th>favored</th>\n      <th>confidence</th>\n      <th>nom_R</th>\n      <th>nom_D</th>\n      <th>nom_I</th>\n      <th>turnout_cvap</th>\n      <th>VOTER_POWER</th>\n      <th>GEOID</th>\n      <th>chamber</th>\n    </tr>\n  </thead>\n  <tbody>\n    <tr>\n      <th>0</th>\n      <td>CT</td>\n      <td>CT-HD-1</td>\n      <td>D</td>\n      <td>D</td>\n      <td>Safe</td>\n      <td>FALSE</td>\n      <td>FALSE</td>\n      <td>FALSE</td>\n      <td>8256</td>\n      <td>-7.480000e-07</td>\n      <td>9001</td>\n      <td>HD</td>\n    </tr>\n    <tr>\n      <th>1</th>\n      <td>CT</td>\n      <td>CT-HD-2</td>\n      <td>D</td>\n      <td>D</td>\n      <td>Lean</td>\n      <td>FALSE</td>\n      <td>FALSE</td>\n      <td>FALSE</td>\n      <td>9538</td>\n      <td>-2.770000e-06</td>\n      <td>9002</td>\n      <td>HD</td>\n    </tr>\n    <tr>\n      <th>2</th>\n      <td>CT</td>\n      <td>CT-HD-3</td>\n      <td>D</td>\n      <td>D</td>\n      <td>Safe</td>\n      <td>FALSE</td>\n      <td>FALSE</td>\n      <td>FALSE</td>\n      <td>7240</td>\n      <td>-8.530000e-07</td>\n      <td>9003</td>\n      <td>HD</td>\n    </tr>\n    <tr>\n      <th>3</th>\n      <td>CT</td>\n      <td>CT-HD-4</td>\n      <td>D</td>\n      <td>D</td>\n      <td>Safe</td>\n      <td>FALSE</td>\n      <td>FALSE</td>\n      <td>FALSE</td>\n      <td>8519</td>\n      <td>-7.250000e-07</td>\n      <td>9004</td>\n      <td>HD</td>\n    </tr>\n    <tr>\n      <th>4</th>\n      <td>CT</td>\n      <td>CT-HD-5</td>\n      <td>D</td>\n      <td>D</td>\n      <td>Safe</td>\n      <td>FALSE</td>\n      <td>FALSE</td>\n      <td>FALSE</td>\n      <td>8851</td>\n      <td>-6.980000e-07</td>\n      <td>9005</td>\n      <td>HD</td>\n    </tr>\n  </tbody>\n</table>\n</div>"
     },
     "metadata": {},
     "execution_count": 8
    }
   ],
   "source": [
    "lower_df.head()"
   ]
  },
  {
   "cell_type": "code",
   "execution_count": 9,
   "metadata": {},
   "outputs": [],
   "source": [
    "upper_shp = gpd.read_file(data_dir / 'UPPER_cb_2019_us_sldu_500k/cb_2019_us_sldu_500k.shp')"
   ]
  },
  {
   "cell_type": "code",
   "execution_count": 10,
   "metadata": {},
   "outputs": [
    {
     "output_type": "execute_result",
     "data": {
      "text/plain": "  STATEFP SLDUST        AFFGEOID  GEOID NAME LSAD   LSY       ALAND  \\\n0      34    016  610U600US34016  34016   16   LU  2018   763668910   \n1      23    026  610U600US23026  23026   26   LU  2018   535557926   \n2      31    023  610U600US31023  31023   23   LU  2018  4288368209   \n3      31    034  610U600US31034  31034   34   LU  2018  4230994361   \n4      30    005  610U600US30005  30005    5   LU  2018   835660316   \n\n      AWATER                                           geometry  \n0    7272222  POLYGON ((-75.04435 40.41259, -75.02472 40.431...  \n1  115675982  POLYGON ((-70.79991 43.85805, -70.79743 43.858...  \n2   54838073  POLYGON ((-97.36819 41.33874, -97.36822 41.358...  \n3   55826999  POLYGON ((-98.49394 40.85621, -98.49370 40.856...  \n4   95496113  POLYGON ((-114.33053 48.22589, -114.32399 48.2...  ",
      "text/html": "<div>\n<style scoped>\n    .dataframe tbody tr th:only-of-type {\n        vertical-align: middle;\n    }\n\n    .dataframe tbody tr th {\n        vertical-align: top;\n    }\n\n    .dataframe thead th {\n        text-align: right;\n    }\n</style>\n<table border=\"1\" class=\"dataframe\">\n  <thead>\n    <tr style=\"text-align: right;\">\n      <th></th>\n      <th>STATEFP</th>\n      <th>SLDUST</th>\n      <th>AFFGEOID</th>\n      <th>GEOID</th>\n      <th>NAME</th>\n      <th>LSAD</th>\n      <th>LSY</th>\n      <th>ALAND</th>\n      <th>AWATER</th>\n      <th>geometry</th>\n    </tr>\n  </thead>\n  <tbody>\n    <tr>\n      <th>0</th>\n      <td>34</td>\n      <td>016</td>\n      <td>610U600US34016</td>\n      <td>34016</td>\n      <td>16</td>\n      <td>LU</td>\n      <td>2018</td>\n      <td>763668910</td>\n      <td>7272222</td>\n      <td>POLYGON ((-75.04435 40.41259, -75.02472 40.431...</td>\n    </tr>\n    <tr>\n      <th>1</th>\n      <td>23</td>\n      <td>026</td>\n      <td>610U600US23026</td>\n      <td>23026</td>\n      <td>26</td>\n      <td>LU</td>\n      <td>2018</td>\n      <td>535557926</td>\n      <td>115675982</td>\n      <td>POLYGON ((-70.79991 43.85805, -70.79743 43.858...</td>\n    </tr>\n    <tr>\n      <th>2</th>\n      <td>31</td>\n      <td>023</td>\n      <td>610U600US31023</td>\n      <td>31023</td>\n      <td>23</td>\n      <td>LU</td>\n      <td>2018</td>\n      <td>4288368209</td>\n      <td>54838073</td>\n      <td>POLYGON ((-97.36819 41.33874, -97.36822 41.358...</td>\n    </tr>\n    <tr>\n      <th>3</th>\n      <td>31</td>\n      <td>034</td>\n      <td>610U600US31034</td>\n      <td>31034</td>\n      <td>34</td>\n      <td>LU</td>\n      <td>2018</td>\n      <td>4230994361</td>\n      <td>55826999</td>\n      <td>POLYGON ((-98.49394 40.85621, -98.49370 40.856...</td>\n    </tr>\n    <tr>\n      <th>4</th>\n      <td>30</td>\n      <td>005</td>\n      <td>610U600US30005</td>\n      <td>30005</td>\n      <td>5</td>\n      <td>LU</td>\n      <td>2018</td>\n      <td>835660316</td>\n      <td>95496113</td>\n      <td>POLYGON ((-114.33053 48.22589, -114.32399 48.2...</td>\n    </tr>\n  </tbody>\n</table>\n</div>"
     },
     "metadata": {},
     "execution_count": 10
    }
   ],
   "source": [
    "upper_shp.head()"
   ]
  },
  {
   "cell_type": "code",
   "execution_count": 12,
   "metadata": {},
   "outputs": [],
   "source": [
    "def get_voter_power(row, df):\n",
    "    voterpower = 0\n",
    "    geomatchs = df[df['GEOID'] == row['GEOID']]\n",
    "    if len(geomatchs.index) > 0:\n",
    "        voterpower = geomatchs.iloc[0]['VOTER_POWER']\n",
    "    return voterpower\n",
    "    "
   ]
  },
  {
   "cell_type": "code",
   "execution_count": 13,
   "metadata": {},
   "outputs": [],
   "source": [
    "def pandas_lambda_geolocate(row, df, df_columns, default_values):\n",
    "    vals = []\n",
    "\n",
    "    geomatch = df[df['GEOID'] == row['GEOID']]\n",
    "    if len(geomatch.index) < 1:\n",
    "        return pd.Series(default_values)\n",
    "    elif len(geomatch.index) > 1:\n",
    "        print(f\"More than one match found for GEOID: {row['GEOID']}\")\n",
    "    geomatch = geomatch.iloc[0]\n",
    "    \n",
    "    for i in range(0, len(df_columns)):\n",
    "        vals.append(geomatch[df_columns[i]])\n",
    "\n",
    "    return pd.Series(vals)"
   ]
  },
  {
   "cell_type": "code",
   "execution_count": 14,
   "metadata": {},
   "outputs": [],
   "source": [
    "def get_lean(row, df):\n",
    "    geomatch = df[df['GEOID'] == row['GEOID']]\n",
    "    if len(geomatch.index) < 1:\n",
    "        return 'no data'\n",
    "    elif len(geomatch.index) > 1:\n",
    "        print(f\"More than one match found for GEOID: {row['GEOID']}\")\n",
    "    geomatch = geomatch.iloc[0]\n",
    "    confidence = geomatch['confidence']\n",
    "    favored = geomatch['favored']\n",
    "    if confidence == 'Toss-Up': return confidence\n",
    "    return confidence + \" \" + favored\n",
    "\n",
    "\n"
   ]
  },
  {
   "cell_type": "code",
   "execution_count": 15,
   "metadata": {
    "tags": []
   },
   "outputs": [
    {
     "output_type": "stream",
     "name": "stdout",
     "text": "More than one match found for GEOID: 13030\nMore than one match found for GEOID: 13031\nMore than one match found for GEOID: 13030\nMore than one match found for GEOID: 13031\n"
    }
   ],
   "source": [
    "df_columns = ['district', 'nom_R', 'nom_D', 'incumbent', 'VOTER_POWER']\n",
    "default_values = ['no data', 'no data', 'no data', 'no data', 0]\n",
    "upper_shp[['DISTRICT', 'NOM_R', 'NOM_D', \"INCUMBENT\",'VOTER_POWER']] = upper_shp.apply(lambda row: pandas_lambda_geolocate(row, upper_df, df_columns, default_values), axis = 1)\n",
    "upper_shp['LEAN'] = upper_shp.apply(lambda row: get_lean(row, upper_df), axis = 1)\n"
   ]
  },
  {
   "cell_type": "code",
   "execution_count": 16,
   "metadata": {},
   "outputs": [
    {
     "output_type": "execute_result",
     "data": {
      "text/plain": "   STATEFP SLDUST        AFFGEOID  GEOID NAME LSAD   LSY       ALAND  \\\n11      13    043  610U600US13043  13043   43   LU  2018   581735370   \n12      13    017  610U600US13017  13017   17   LU  2018  1144431704   \n17      27    028  610U600US27028  27028   28   LU  2018  4738895114   \n18      27    021  610U600US27021  27021   21   LU  2018  3804014578   \n33      20    013  610U600US20013  20013   13   LU  2018  3667142751   \n\n       AWATER                                           geometry  DISTRICT  \\\n11   11760621  POLYGON ((-84.18805 33.65409, -84.18391 33.655...  GA-SD-43   \n12   25560639  POLYGON ((-84.35419 33.35336, -84.35418 33.377...  GA-SD-17   \n17   72931748  POLYGON ((-92.44957 43.67444, -92.44953 43.682...  MN-SD-28   \n18  138178830  POLYGON ((-93.04090 44.25475, -93.04069 44.256...  MN-SD-21   \n33   27696376  MULTIPOLYGON (((-94.72288 37.84116, -94.71885 ...  KS-SD-13   \n\n                  NOM_R           NOM_D INCUMBENT   VOTER_POWER      LEAN  \n11     Melanie Williams  Tonya Anderson         D  1.010000e-09    Safe D  \n12     Brian Strickland      Kelly Rose         R  8.150000e-08  Likely R  \n17        Jeremy Miller    Sarah Kruger         R -1.060000e-06    Safe R  \n18    Michael P. Goggin   Ralph Kaehler         R -4.260000e-06  Likely R  \n33  Richard Hilderbrand     Nancy Ingle         R  4.400000e-07    Safe R  ",
      "text/html": "<div>\n<style scoped>\n    .dataframe tbody tr th:only-of-type {\n        vertical-align: middle;\n    }\n\n    .dataframe tbody tr th {\n        vertical-align: top;\n    }\n\n    .dataframe thead th {\n        text-align: right;\n    }\n</style>\n<table border=\"1\" class=\"dataframe\">\n  <thead>\n    <tr style=\"text-align: right;\">\n      <th></th>\n      <th>STATEFP</th>\n      <th>SLDUST</th>\n      <th>AFFGEOID</th>\n      <th>GEOID</th>\n      <th>NAME</th>\n      <th>LSAD</th>\n      <th>LSY</th>\n      <th>ALAND</th>\n      <th>AWATER</th>\n      <th>geometry</th>\n      <th>DISTRICT</th>\n      <th>NOM_R</th>\n      <th>NOM_D</th>\n      <th>INCUMBENT</th>\n      <th>VOTER_POWER</th>\n      <th>LEAN</th>\n    </tr>\n  </thead>\n  <tbody>\n    <tr>\n      <th>11</th>\n      <td>13</td>\n      <td>043</td>\n      <td>610U600US13043</td>\n      <td>13043</td>\n      <td>43</td>\n      <td>LU</td>\n      <td>2018</td>\n      <td>581735370</td>\n      <td>11760621</td>\n      <td>POLYGON ((-84.18805 33.65409, -84.18391 33.655...</td>\n      <td>GA-SD-43</td>\n      <td>Melanie Williams</td>\n      <td>Tonya Anderson</td>\n      <td>D</td>\n      <td>1.010000e-09</td>\n      <td>Safe D</td>\n    </tr>\n    <tr>\n      <th>12</th>\n      <td>13</td>\n      <td>017</td>\n      <td>610U600US13017</td>\n      <td>13017</td>\n      <td>17</td>\n      <td>LU</td>\n      <td>2018</td>\n      <td>1144431704</td>\n      <td>25560639</td>\n      <td>POLYGON ((-84.35419 33.35336, -84.35418 33.377...</td>\n      <td>GA-SD-17</td>\n      <td>Brian Strickland</td>\n      <td>Kelly Rose</td>\n      <td>R</td>\n      <td>8.150000e-08</td>\n      <td>Likely R</td>\n    </tr>\n    <tr>\n      <th>17</th>\n      <td>27</td>\n      <td>028</td>\n      <td>610U600US27028</td>\n      <td>27028</td>\n      <td>28</td>\n      <td>LU</td>\n      <td>2018</td>\n      <td>4738895114</td>\n      <td>72931748</td>\n      <td>POLYGON ((-92.44957 43.67444, -92.44953 43.682...</td>\n      <td>MN-SD-28</td>\n      <td>Jeremy Miller</td>\n      <td>Sarah Kruger</td>\n      <td>R</td>\n      <td>-1.060000e-06</td>\n      <td>Safe R</td>\n    </tr>\n    <tr>\n      <th>18</th>\n      <td>27</td>\n      <td>021</td>\n      <td>610U600US27021</td>\n      <td>27021</td>\n      <td>21</td>\n      <td>LU</td>\n      <td>2018</td>\n      <td>3804014578</td>\n      <td>138178830</td>\n      <td>POLYGON ((-93.04090 44.25475, -93.04069 44.256...</td>\n      <td>MN-SD-21</td>\n      <td>Michael P. Goggin</td>\n      <td>Ralph Kaehler</td>\n      <td>R</td>\n      <td>-4.260000e-06</td>\n      <td>Likely R</td>\n    </tr>\n    <tr>\n      <th>33</th>\n      <td>20</td>\n      <td>013</td>\n      <td>610U600US20013</td>\n      <td>20013</td>\n      <td>13</td>\n      <td>LU</td>\n      <td>2018</td>\n      <td>3667142751</td>\n      <td>27696376</td>\n      <td>MULTIPOLYGON (((-94.72288 37.84116, -94.71885 ...</td>\n      <td>KS-SD-13</td>\n      <td>Richard Hilderbrand</td>\n      <td>Nancy Ingle</td>\n      <td>R</td>\n      <td>4.400000e-07</td>\n      <td>Safe R</td>\n    </tr>\n  </tbody>\n</table>\n</div>"
     },
     "metadata": {},
     "execution_count": 16
    }
   ],
   "source": [
    "upper_shp[upper_shp['VOTER_POWER'] != 0].head()"
   ]
  },
  {
   "cell_type": "code",
   "execution_count": 17,
   "metadata": {},
   "outputs": [],
   "source": [
    "# choose columns you want in output\n",
    "upper_shp = upper_shp[['STATEFP', 'GEOID', 'DISTRICT', 'NOM_R', 'NOM_D', 'INCUMBENT', 'LEAN', 'VOTER_POWER', 'geometry']]\t"
   ]
  },
  {
   "cell_type": "code",
   "execution_count": 18,
   "metadata": {},
   "outputs": [
    {
     "output_type": "execute_result",
     "data": {
      "text/plain": "     STATEFP  GEOID  DISTRICT                NOM_R              NOM_D  \\\n11        13  13043  GA-SD-43     Melanie Williams     Tonya Anderson   \n12        13  13017  GA-SD-17     Brian Strickland         Kelly Rose   \n17        27  27028  MN-SD-28        Jeremy Miller       Sarah Kruger   \n18        27  27021  MN-SD-21    Michael P. Goggin      Ralph Kaehler   \n33        20  20013  KS-SD-13  Richard Hilderbrand        Nancy Ingle   \n...      ...    ...       ...                  ...                ...   \n1892      20  20005   KS-SD-5          Kevin Braun    Jeffrey Pittman   \n1900      27  27039  MN-SD-39        Karin Housley                TBA   \n1905      27  27056  MN-SD-56             Dan Hall                TBA   \n1934      37  37039  NC-SD-39         Joshua Niday  DeAndrea Salvador   \n1935      12  12027  FL-SD-27                FALSE              FALSE   \n\n     INCUMBENT      LEAN   VOTER_POWER  \\\n11           D    Safe D  1.010000e-09   \n12           R  Likely R  8.150000e-08   \n17           R    Safe R -1.060000e-06   \n18           R  Likely R -4.260000e-06   \n33           R    Safe R  4.400000e-07   \n...        ...       ...           ...   \n1892         R   Toss-Up  5.920000e-06   \n1900         R  Likely R -4.070000e-06   \n1905         R   Toss-Up -1.580000e-05   \n1934     FALSE    Safe D  1.550000e-07   \n1935         R    Safe R  1.050000e-07   \n\n                                               geometry  \n11    POLYGON ((-84.18805 33.65409, -84.18391 33.655...  \n12    POLYGON ((-84.35419 33.35336, -84.35418 33.377...  \n17    POLYGON ((-92.44957 43.67444, -92.44953 43.682...  \n18    POLYGON ((-93.04090 44.25475, -93.04069 44.256...  \n33    MULTIPOLYGON (((-94.72288 37.84116, -94.71885 ...  \n...                                                 ...  \n1892  POLYGON ((-94.96504 39.29503, -94.96093 39.295...  \n1900  POLYGON ((-93.01951 45.25808, -93.01949 45.286...  \n1905  POLYGON ((-93.39901 44.75362, -93.39901 44.753...  \n1934  POLYGON ((-80.87733 35.09865, -80.87585 35.103...  \n1935  MULTIPOLYGON (((-82.18357 26.69502, -82.18120 ...  \n\n[201 rows x 9 columns]",
      "text/html": "<div>\n<style scoped>\n    .dataframe tbody tr th:only-of-type {\n        vertical-align: middle;\n    }\n\n    .dataframe tbody tr th {\n        vertical-align: top;\n    }\n\n    .dataframe thead th {\n        text-align: right;\n    }\n</style>\n<table border=\"1\" class=\"dataframe\">\n  <thead>\n    <tr style=\"text-align: right;\">\n      <th></th>\n      <th>STATEFP</th>\n      <th>GEOID</th>\n      <th>DISTRICT</th>\n      <th>NOM_R</th>\n      <th>NOM_D</th>\n      <th>INCUMBENT</th>\n      <th>LEAN</th>\n      <th>VOTER_POWER</th>\n      <th>geometry</th>\n    </tr>\n  </thead>\n  <tbody>\n    <tr>\n      <th>11</th>\n      <td>13</td>\n      <td>13043</td>\n      <td>GA-SD-43</td>\n      <td>Melanie Williams</td>\n      <td>Tonya Anderson</td>\n      <td>D</td>\n      <td>Safe D</td>\n      <td>1.010000e-09</td>\n      <td>POLYGON ((-84.18805 33.65409, -84.18391 33.655...</td>\n    </tr>\n    <tr>\n      <th>12</th>\n      <td>13</td>\n      <td>13017</td>\n      <td>GA-SD-17</td>\n      <td>Brian Strickland</td>\n      <td>Kelly Rose</td>\n      <td>R</td>\n      <td>Likely R</td>\n      <td>8.150000e-08</td>\n      <td>POLYGON ((-84.35419 33.35336, -84.35418 33.377...</td>\n    </tr>\n    <tr>\n      <th>17</th>\n      <td>27</td>\n      <td>27028</td>\n      <td>MN-SD-28</td>\n      <td>Jeremy Miller</td>\n      <td>Sarah Kruger</td>\n      <td>R</td>\n      <td>Safe R</td>\n      <td>-1.060000e-06</td>\n      <td>POLYGON ((-92.44957 43.67444, -92.44953 43.682...</td>\n    </tr>\n    <tr>\n      <th>18</th>\n      <td>27</td>\n      <td>27021</td>\n      <td>MN-SD-21</td>\n      <td>Michael P. Goggin</td>\n      <td>Ralph Kaehler</td>\n      <td>R</td>\n      <td>Likely R</td>\n      <td>-4.260000e-06</td>\n      <td>POLYGON ((-93.04090 44.25475, -93.04069 44.256...</td>\n    </tr>\n    <tr>\n      <th>33</th>\n      <td>20</td>\n      <td>20013</td>\n      <td>KS-SD-13</td>\n      <td>Richard Hilderbrand</td>\n      <td>Nancy Ingle</td>\n      <td>R</td>\n      <td>Safe R</td>\n      <td>4.400000e-07</td>\n      <td>MULTIPOLYGON (((-94.72288 37.84116, -94.71885 ...</td>\n    </tr>\n    <tr>\n      <th>...</th>\n      <td>...</td>\n      <td>...</td>\n      <td>...</td>\n      <td>...</td>\n      <td>...</td>\n      <td>...</td>\n      <td>...</td>\n      <td>...</td>\n      <td>...</td>\n    </tr>\n    <tr>\n      <th>1892</th>\n      <td>20</td>\n      <td>20005</td>\n      <td>KS-SD-5</td>\n      <td>Kevin Braun</td>\n      <td>Jeffrey Pittman</td>\n      <td>R</td>\n      <td>Toss-Up</td>\n      <td>5.920000e-06</td>\n      <td>POLYGON ((-94.96504 39.29503, -94.96093 39.295...</td>\n    </tr>\n    <tr>\n      <th>1900</th>\n      <td>27</td>\n      <td>27039</td>\n      <td>MN-SD-39</td>\n      <td>Karin Housley</td>\n      <td>TBA</td>\n      <td>R</td>\n      <td>Likely R</td>\n      <td>-4.070000e-06</td>\n      <td>POLYGON ((-93.01951 45.25808, -93.01949 45.286...</td>\n    </tr>\n    <tr>\n      <th>1905</th>\n      <td>27</td>\n      <td>27056</td>\n      <td>MN-SD-56</td>\n      <td>Dan Hall</td>\n      <td>TBA</td>\n      <td>R</td>\n      <td>Toss-Up</td>\n      <td>-1.580000e-05</td>\n      <td>POLYGON ((-93.39901 44.75362, -93.39901 44.753...</td>\n    </tr>\n    <tr>\n      <th>1934</th>\n      <td>37</td>\n      <td>37039</td>\n      <td>NC-SD-39</td>\n      <td>Joshua Niday</td>\n      <td>DeAndrea Salvador</td>\n      <td>FALSE</td>\n      <td>Safe D</td>\n      <td>1.550000e-07</td>\n      <td>POLYGON ((-80.87733 35.09865, -80.87585 35.103...</td>\n    </tr>\n    <tr>\n      <th>1935</th>\n      <td>12</td>\n      <td>12027</td>\n      <td>FL-SD-27</td>\n      <td>FALSE</td>\n      <td>FALSE</td>\n      <td>R</td>\n      <td>Safe R</td>\n      <td>1.050000e-07</td>\n      <td>MULTIPOLYGON (((-82.18357 26.69502, -82.18120 ...</td>\n    </tr>\n  </tbody>\n</table>\n<p>201 rows × 9 columns</p>\n</div>"
     },
     "metadata": {},
     "execution_count": 18
    }
   ],
   "source": [
    "upper_shp[upper_shp['VOTER_POWER'] != 0]"
   ]
  },
  {
   "cell_type": "code",
   "execution_count": 19,
   "metadata": {},
   "outputs": [],
   "source": [
    "upper_shp.to_file(out_dir / \"upper_state_moneyball.geojson\", driver=\"GeoJSON\")"
   ]
  },
  {
   "cell_type": "markdown",
   "metadata": {},
   "source": [
    "Previous lower geojson size: 46.8mb\n",
    "Previous upper geojson size: 32.7mb"
   ]
  }
 ]
}